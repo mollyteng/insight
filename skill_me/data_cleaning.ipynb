{
 "cells": [
  {
   "cell_type": "code",
   "execution_count": 1,
   "metadata": {},
   "outputs": [],
   "source": [
    "import json\n",
    "import pandas as pd\n",
    "import numpy as np\n",
    "import random"
   ]
  },
  {
   "cell_type": "code",
   "execution_count": 2,
   "metadata": {
    "scrolled": true
   },
   "outputs": [],
   "source": [
    "def load_json(provider_name):\n",
    "    data = []\n",
    "    with open(f'../skill_recognition/raw_data/provider.{provider_name}.json') as json_file:\n",
    "        for line in json_file:\n",
    "            data.append(json.loads(line))\n",
    "    return data"
   ]
  },
  {
   "cell_type": "markdown",
   "metadata": {},
   "source": [
    "# credential_engine"
   ]
  },
  {
   "cell_type": "code",
   "execution_count": 3,
   "metadata": {},
   "outputs": [],
   "source": [
    "cg_json = load_json('credential_engine')"
   ]
  },
  {
   "cell_type": "code",
   "execution_count": 4,
   "metadata": {
    "scrolled": true
   },
   "outputs": [
    {
     "data": {
      "text/plain": [
       "{'_id': {'$oid': '5ccc9f44edc27e33d16cdc2b'},\n",
       " 'ce_id': 'ce-438f33f1-c0be-4c22-a8ba-67b7f0bf172e',\n",
       " 'description': 'The purpose of the recertification program is to support continuous competence and professional development of BCSP certificants.  The recertification cycle is every five years, which is based on the rate at which practice changes.  BCSP has determined that five years is a reasonable period to measure the activities in which a certificant engages to remain up-to-date with current trends in practice.',\n",
       " 'description_short': '',\n",
       " 'effort_min': '',\n",
       " 'effort_max': '',\n",
       " 'delivery_type': 'Blended Delivery',\n",
       " 'place': '',\n",
       " 'entitlements': [{'price': '', 'currency': ''}],\n",
       " 'duration': '',\n",
       " 'weeks_to_complete': None,\n",
       " 'instructor': [],\n",
       " 'prerequisites': 'CSP Renewal Requirements',\n",
       " 'url': 'https://www.bcsp.org/CSP',\n",
       " 'language': 'en',\n",
       " 'subjects': '',\n",
       " 'owner': 'Board of Certified Safety Professionals (BCSP)',\n",
       " 'outcome': '',\n",
       " 'learning_type': 'Certificate',\n",
       " 'skill': [''],\n",
       " 'title': 'Certified Safety Professional (CSP)'}"
      ]
     },
     "execution_count": 4,
     "metadata": {},
     "output_type": "execute_result"
    }
   ],
   "source": [
    "cg_json[0]"
   ]
  },
  {
   "cell_type": "code",
   "execution_count": 5,
   "metadata": {},
   "outputs": [],
   "source": [
    "cg = pd.DataFrame({'title': [course['title'] for course in cg_json], \n",
    "              'description': [course['description'] for course in cg_json],\n",
    "              'skill': [course['skill'] for course in cg_json]})"
   ]
  },
  {
   "cell_type": "code",
   "execution_count": 6,
   "metadata": {},
   "outputs": [
    {
     "data": {
      "text/plain": [
       "(363, 3)"
      ]
     },
     "execution_count": 6,
     "metadata": {},
     "output_type": "execute_result"
    }
   ],
   "source": [
    "cg.shape"
   ]
  },
  {
   "cell_type": "code",
   "execution_count": 7,
   "metadata": {
    "scrolled": true
   },
   "outputs": [
    {
     "data": {
      "text/html": [
       "<div>\n",
       "<style scoped>\n",
       "    .dataframe tbody tr th:only-of-type {\n",
       "        vertical-align: middle;\n",
       "    }\n",
       "\n",
       "    .dataframe tbody tr th {\n",
       "        vertical-align: top;\n",
       "    }\n",
       "\n",
       "    .dataframe thead th {\n",
       "        text-align: right;\n",
       "    }\n",
       "</style>\n",
       "<table border=\"1\" class=\"dataframe\">\n",
       "  <thead>\n",
       "    <tr style=\"text-align: right;\">\n",
       "      <th></th>\n",
       "      <th>title</th>\n",
       "      <th>description</th>\n",
       "      <th>skill</th>\n",
       "    </tr>\n",
       "  </thead>\n",
       "  <tbody>\n",
       "    <tr>\n",
       "      <th>0</th>\n",
       "      <td>Certified Safety Professional (CSP)</td>\n",
       "      <td>The purpose of the recertification program is ...</td>\n",
       "      <td>[]</td>\n",
       "    </tr>\n",
       "    <tr>\n",
       "      <th>1</th>\n",
       "      <td>HOSP 215, Front Office</td>\n",
       "      <td>This course presents a systematic approach to ...</td>\n",
       "      <td>[]</td>\n",
       "    </tr>\n",
       "    <tr>\n",
       "      <th>2</th>\n",
       "      <td>Computer Science Program at Texas Luthern Univ...</td>\n",
       "      <td>We believe the analysis of problems, the desig...</td>\n",
       "      <td>[]</td>\n",
       "    </tr>\n",
       "    <tr>\n",
       "      <th>3</th>\n",
       "      <td>Bachelor of Science in Information Technology ...</td>\n",
       "      <td>Brandman University's Bachelor of Science in I...</td>\n",
       "      <td>[]</td>\n",
       "    </tr>\n",
       "    <tr>\n",
       "      <th>4</th>\n",
       "      <td>Pharmacy Technician Certification Board Certif...</td>\n",
       "      <td>Certificants must complete a minimum of twenty...</td>\n",
       "      <td>[]</td>\n",
       "    </tr>\n",
       "    <tr>\n",
       "      <th>5</th>\n",
       "      <td>Energy Industry Fundamentals Certificate</td>\n",
       "      <td>The Energy Industry Fundamentals course, for w...</td>\n",
       "      <td>[Energy Industry]</td>\n",
       "    </tr>\n",
       "    <tr>\n",
       "      <th>6</th>\n",
       "      <td>Insurance Studies Certificate</td>\n",
       "      <td>The Certificate of Completion (CCL) in Insuran...</td>\n",
       "      <td>[Insurance Industry Knowledge]</td>\n",
       "    </tr>\n",
       "    <tr>\n",
       "      <th>7</th>\n",
       "      <td>Bachelor of Science in Information Technology ...</td>\n",
       "      <td>This program consists of the following courses...</td>\n",
       "      <td>[]</td>\n",
       "    </tr>\n",
       "    <tr>\n",
       "      <th>8</th>\n",
       "      <td>Respiratory Care Associate of Science</td>\n",
       "      <td>Students are admitted to the Respiratory Care ...</td>\n",
       "      <td>[]</td>\n",
       "    </tr>\n",
       "    <tr>\n",
       "      <th>9</th>\n",
       "      <td>BOC Level II Training Certificate of Completion</td>\n",
       "      <td>To earn a Level II Training Certificate of Com...</td>\n",
       "      <td>[]</td>\n",
       "    </tr>\n",
       "  </tbody>\n",
       "</table>\n",
       "</div>"
      ],
      "text/plain": [
       "                                               title  \\\n",
       "0                Certified Safety Professional (CSP)   \n",
       "1                             HOSP 215, Front Office   \n",
       "2  Computer Science Program at Texas Luthern Univ...   \n",
       "3  Bachelor of Science in Information Technology ...   \n",
       "4  Pharmacy Technician Certification Board Certif...   \n",
       "5           Energy Industry Fundamentals Certificate   \n",
       "6                      Insurance Studies Certificate   \n",
       "7  Bachelor of Science in Information Technology ...   \n",
       "8              Respiratory Care Associate of Science   \n",
       "9    BOC Level II Training Certificate of Completion   \n",
       "\n",
       "                                         description  \\\n",
       "0  The purpose of the recertification program is ...   \n",
       "1  This course presents a systematic approach to ...   \n",
       "2  We believe the analysis of problems, the desig...   \n",
       "3  Brandman University's Bachelor of Science in I...   \n",
       "4  Certificants must complete a minimum of twenty...   \n",
       "5  The Energy Industry Fundamentals course, for w...   \n",
       "6  The Certificate of Completion (CCL) in Insuran...   \n",
       "7  This program consists of the following courses...   \n",
       "8  Students are admitted to the Respiratory Care ...   \n",
       "9  To earn a Level II Training Certificate of Com...   \n",
       "\n",
       "                            skill  \n",
       "0                              []  \n",
       "1                              []  \n",
       "2                              []  \n",
       "3                              []  \n",
       "4                              []  \n",
       "5               [Energy Industry]  \n",
       "6  [Insurance Industry Knowledge]  \n",
       "7                              []  \n",
       "8                              []  \n",
       "9                              []  "
      ]
     },
     "execution_count": 7,
     "metadata": {},
     "output_type": "execute_result"
    }
   ],
   "source": [
    "cg.head(10)"
   ]
  },
  {
   "cell_type": "code",
   "execution_count": 8,
   "metadata": {},
   "outputs": [],
   "source": [
    "cg['skill'] = cg['skill'].map(lambda x: x[0])"
   ]
  },
  {
   "cell_type": "code",
   "execution_count": 9,
   "metadata": {},
   "outputs": [],
   "source": [
    "def empty_to_null(x):\n",
    "    if x == '':\n",
    "        return np.nan\n",
    "    else:\n",
    "        return x"
   ]
  },
  {
   "cell_type": "code",
   "execution_count": 10,
   "metadata": {
    "scrolled": true
   },
   "outputs": [],
   "source": [
    "cg['skill'] = cg['skill'].apply(empty_to_null)"
   ]
  },
  {
   "cell_type": "code",
   "execution_count": 11,
   "metadata": {
    "scrolled": true
   },
   "outputs": [
    {
     "data": {
      "text/plain": [
       "273"
      ]
     },
     "execution_count": 11,
     "metadata": {},
     "output_type": "execute_result"
    }
   ],
   "source": [
    "cg['skill'].isnull().sum()"
   ]
  },
  {
   "cell_type": "code",
   "execution_count": 12,
   "metadata": {
    "scrolled": true
   },
   "outputs": [
    {
     "data": {
      "text/plain": [
       "(363, 3)"
      ]
     },
     "execution_count": 12,
     "metadata": {},
     "output_type": "execute_result"
    }
   ],
   "source": [
    "cg.shape"
   ]
  },
  {
   "cell_type": "code",
   "execution_count": 13,
   "metadata": {},
   "outputs": [],
   "source": [
    "cg_labeled = cg[cg['skill'].notna()]"
   ]
  },
  {
   "cell_type": "code",
   "execution_count": 14,
   "metadata": {
    "scrolled": true
   },
   "outputs": [
    {
     "data": {
      "text/html": [
       "<div>\n",
       "<style scoped>\n",
       "    .dataframe tbody tr th:only-of-type {\n",
       "        vertical-align: middle;\n",
       "    }\n",
       "\n",
       "    .dataframe tbody tr th {\n",
       "        vertical-align: top;\n",
       "    }\n",
       "\n",
       "    .dataframe thead th {\n",
       "        text-align: right;\n",
       "    }\n",
       "</style>\n",
       "<table border=\"1\" class=\"dataframe\">\n",
       "  <thead>\n",
       "    <tr style=\"text-align: right;\">\n",
       "      <th></th>\n",
       "      <th>title</th>\n",
       "      <th>description</th>\n",
       "      <th>skill</th>\n",
       "    </tr>\n",
       "  </thead>\n",
       "  <tbody>\n",
       "    <tr>\n",
       "      <th>5</th>\n",
       "      <td>Energy Industry Fundamentals Certificate</td>\n",
       "      <td>The Energy Industry Fundamentals course, for w...</td>\n",
       "      <td>Energy Industry</td>\n",
       "    </tr>\n",
       "    <tr>\n",
       "      <th>6</th>\n",
       "      <td>Insurance Studies Certificate</td>\n",
       "      <td>The Certificate of Completion (CCL) in Insuran...</td>\n",
       "      <td>Insurance Industry Knowledge</td>\n",
       "    </tr>\n",
       "    <tr>\n",
       "      <th>10</th>\n",
       "      <td>BOC Level I Training Certificate of Completion</td>\n",
       "      <td>Level I classes support the BOC operator skill...</td>\n",
       "      <td>HVAC</td>\n",
       "    </tr>\n",
       "    <tr>\n",
       "      <th>11</th>\n",
       "      <td>Official (ISC)² CISSP Training</td>\n",
       "      <td>Our training helps you fully prepare for this ...</td>\n",
       "      <td>Cybersecurity Strategy</td>\n",
       "    </tr>\n",
       "    <tr>\n",
       "      <th>12</th>\n",
       "      <td>NSF Certificate in Food Safety Programs</td>\n",
       "      <td>NSF International, NSF Training &amp; Education Se...</td>\n",
       "      <td>Food Safety</td>\n",
       "    </tr>\n",
       "    <tr>\n",
       "      <th>13</th>\n",
       "      <td>Certified Food Safety Manager Training</td>\n",
       "      <td>Certified Managers have a responsibility to sh...</td>\n",
       "      <td>Food Safety</td>\n",
       "    </tr>\n",
       "    <tr>\n",
       "      <th>42</th>\n",
       "      <td>Professional Development Certificate in SQL Se...</td>\n",
       "      <td>An 11-week in-depth program designed to provid...</td>\n",
       "      <td>Microsoft SQL</td>\n",
       "    </tr>\n",
       "    <tr>\n",
       "      <th>44</th>\n",
       "      <td>.Net Web Developer Program</td>\n",
       "      <td>A 10-week comprehensive program covering web d...</td>\n",
       "      <td>.NET</td>\n",
       "    </tr>\n",
       "    <tr>\n",
       "      <th>47</th>\n",
       "      <td>Graduate Certificate in Cybersecurity - Critic...</td>\n",
       "      <td>The Cybersecurity area of study blends both in...</td>\n",
       "      <td>Infrastructure Security Fundamentals</td>\n",
       "    </tr>\n",
       "    <tr>\n",
       "      <th>49</th>\n",
       "      <td>Welding &amp; Fabrication Industry Certification P...</td>\n",
       "      <td>The Monroe Community College Career Welding &amp; ...</td>\n",
       "      <td>MIG (PULSE) Welding</td>\n",
       "    </tr>\n",
       "  </tbody>\n",
       "</table>\n",
       "</div>"
      ],
      "text/plain": [
       "                                                title  \\\n",
       "5            Energy Industry Fundamentals Certificate   \n",
       "6                       Insurance Studies Certificate   \n",
       "10     BOC Level I Training Certificate of Completion   \n",
       "11                     Official (ISC)² CISSP Training   \n",
       "12            NSF Certificate in Food Safety Programs   \n",
       "13             Certified Food Safety Manager Training   \n",
       "42  Professional Development Certificate in SQL Se...   \n",
       "44                         .Net Web Developer Program   \n",
       "47  Graduate Certificate in Cybersecurity - Critic...   \n",
       "49  Welding & Fabrication Industry Certification P...   \n",
       "\n",
       "                                          description  \\\n",
       "5   The Energy Industry Fundamentals course, for w...   \n",
       "6   The Certificate of Completion (CCL) in Insuran...   \n",
       "10  Level I classes support the BOC operator skill...   \n",
       "11  Our training helps you fully prepare for this ...   \n",
       "12  NSF International, NSF Training & Education Se...   \n",
       "13  Certified Managers have a responsibility to sh...   \n",
       "42  An 11-week in-depth program designed to provid...   \n",
       "44  A 10-week comprehensive program covering web d...   \n",
       "47  The Cybersecurity area of study blends both in...   \n",
       "49  The Monroe Community College Career Welding & ...   \n",
       "\n",
       "                                   skill  \n",
       "5                        Energy Industry  \n",
       "6           Insurance Industry Knowledge  \n",
       "10                                  HVAC  \n",
       "11                Cybersecurity Strategy  \n",
       "12                           Food Safety  \n",
       "13                           Food Safety  \n",
       "42                         Microsoft SQL  \n",
       "44                                  .NET  \n",
       "47  Infrastructure Security Fundamentals  \n",
       "49                   MIG (PULSE) Welding  "
      ]
     },
     "execution_count": 14,
     "metadata": {},
     "output_type": "execute_result"
    }
   ],
   "source": [
    "cg_labeled.head(10)"
   ]
  },
  {
   "cell_type": "markdown",
   "metadata": {},
   "source": [
    "# edx-courses"
   ]
  },
  {
   "cell_type": "code",
   "execution_count": 15,
   "metadata": {},
   "outputs": [],
   "source": [
    "ec_json = load_json('edx-courses')"
   ]
  },
  {
   "cell_type": "code",
   "execution_count": 16,
   "metadata": {
    "scrolled": true
   },
   "outputs": [
    {
     "data": {
      "text/plain": [
       "{'_id': {'$oid': '5c638595edc27e865ed53801'},\n",
       " 'title': 'Evolution of the Human Sociality: A Quest for the Origin of Our Social Behavior',\n",
       " 'description_short': 'Learn about the origins of human beings and primatology, the scientific study of primates.',\n",
       " 'description_full': '<p>Through the process of evolution, animals have developed their biological features and their cultures based on their surrounding environments. How we live our lives today is a direct result of features developed from our primate ancestors as they adapted to new environments.  </p>\\n<p>In primatology, it is essential to think about how cultural development and biological natures are inseparable.  </p>\\n<p>This course will help you rediscover the process of evolution and will introduce primatological studies conducted by researchers at Kyoto University, Japan. Based on carefully conducted research on primate species, we will explore the origins of human beings and provide you with examples of common similarities between human beings and non-human primates.  </p>\\n<p>We will analyze basic features, such as foraging, mating, aggression, and communication from the primatological viewpoint. Furthermore, cultural and social aspects of human society, from the formation of family groups to community activities, will be considered thoroughly, in comparison to those of monkeys and apes.  </p>\\n<p>Our goal is to broaden your view of humans to a wider extent and think dynamically about your biology in terms of human evolution. Through acquiring knowledge of basic primatology in this course, you will establish a viewpoint to think and discuss the evolutionary process of human, and human society, in conjunction with those of our close relatives.</p>',\n",
       " 'entitlements': [{'mode': 'verified',\n",
       "   'price': '49.00',\n",
       "   'currency': 'USD',\n",
       "   'sku': '88EE3D4',\n",
       "   'expires': None}],\n",
       " 'level': 'Introductory',\n",
       " 'prerequisites': [],\n",
       " 'owners': [{'uuid': '697091f9-b97d-4d38-a7c5-621353e7551c',\n",
       "   'key': 'KyotoUx',\n",
       "   'name': 'Kyoto University',\n",
       "   'certificate_logo_image_url': 'https://edxuploads.s3.amazonaws.com/organization_logos/logo-kyotoux.png',\n",
       "   'description': '<p>Founded in 1897, Kyoto University is acknowledged as one of the most accomplished research-oriented universities in Asia. The validity of that reputation is testified by the accolades conferred on our alumni researchers, most notably eight Nobel Prize laureates who undertook vital research during their time at the university. In addition to those awards, several other Kyoto University faculty members have received respected accolades, including two Fields Medalists and one recipient of the Gauss Prize.</p>\\n<p>Visit the KyotoUx <a href=\"https://www.facebook.com/kyotoux\">Facebook page</a> for more information.</p>',\n",
       "   'homepage_url': None,\n",
       "   'tags': ['charter'],\n",
       "   'logo_image_url': 'https://www.edx.org/sites/default/files/school/image/banner/kyotoux_200x101_0.png',\n",
       "   'marketing_url': 'https://www.edx.org/school/kyotoux'}],\n",
       " 'expected_learning_items': [],\n",
       " 'modified_time': '2019-02-12T20:34:47.268991Z',\n",
       " 'marketing_url': 'https://www.edx.org/course/evolution-of-the-human-sociality-a-quest-for-the-origin-of-our-social-behavior?utm_source=futurefitai-futurefitai&utm_medium=affiliate_partner',\n",
       " 'outcome': '<ul><li>Basic concepts and scientific evidence of primatology</li>\\n\\t<li>The process of human evolution in conjunction with those of primates.</li>\\n\\t<li>Ability to discuss the process of human evolution through the history of primate evolution</li>\\n</ul>',\n",
       " 'subjects': [{'name': 'History',\n",
       "   'subtitle': 'Learn about history and more from the best universities and institutions around the world.',\n",
       "   'description': '<p>Study world history online with courses covering a variety of subjects from ancient to modern. Topics include ancient Greek history, European art history, religion in history, human evolution and much more. Enroll in Harvard University’s popular ten-part series on the history of China or any of the many free courses offered.  </p>\\n<p>Related Topics - <a href=\"/learn/art-history\">Art History</a>| <a href=\"/learn/chinese-history\">Chinese History</a>| <a href=\"/learn/us-history\">U.S. History</a>| <a href=\"/learn/western-civilization\">Western Civilization</a>| <a href=\"/learn/world-history\">World History</a></p>',\n",
       "   'banner_image_url': 'https://www.edx.org/sites/default/files/history-1440-210.jpg',\n",
       "   'card_image_url': 'https://www.edx.org/sites/default/files/subject/image/card/history.jpg',\n",
       "   'slug': 'history',\n",
       "   'uuid': 'c8579e1c-99f2-4a95-988c-3542909f055e'},\n",
       "  {'name': 'Biology & Life Sciences',\n",
       "   'subtitle': 'Learn about biology and life sciences and more from the best universities and institutions around the world.',\n",
       "   'description': '<p>Take free online biology courses in genetics, biotechnology, biochemistry, neurobiology and other disciplines. Courses include <em>Fundamentals of Neuroscience</em> from Harvard University, <em>Molecular Biology</em> from MIT and an <em>Introduction to Bioethics</em> from Georgetown.  </p>\\n<p>Related Topics - <a href=\"/learn/animal-behavior\">Animal Behavior</a> | <a href=\"/learn/bioelectricity\">Bioelectricity</a> | <a href=\"/learn/bioinformatics\">Bioinformatics</a> | <a href=\"/learn/biology\">Biology</a> | <a href=\"/learn/biotechnology\">Biotechnology</a> | <a href=\"/learn/cellular-biology\">Cellular Biology</a> | <a href=\"/learn/dna\">DNA</a> | <a href=\"/learn/evolution\">Evolution</a> | <a href=\"/learn/genetics\">Genetics</a> | <a href=\"/learn/health-wellness\">Health & Wellness</a> | <a href=\"/learn/human-anatomy\">Human Anatomy</a> | <a href=\"/learn/life-sciences\">Life Sciences</a> | <a href=\"/learn/medicine\">Medicine</a> | <a href=\"/learn/microbiology\">Microbiology</a> | <a href=\"/learn/molecular-biology\">Molecular Biology</a> | <a href=\"/learn/neuroscience\">Neuroscience</a> | <a href=\"/learn/nursing\">Nursing</a> | <a href=\"/learn/nutrition\">Nutrition</a> | <a href=\"/learn/physiology\">Physiology</a> | <a href=\"/learn/safety\">Safety</a></p>',\n",
       "   'banner_image_url': 'https://www.edx.org/sites/default/files/plant-stomas-1440x210.jpg',\n",
       "   'card_image_url': 'https://www.edx.org/sites/default/files/subject/image/card/biology.jpg',\n",
       "   'slug': 'biology-life-sciences',\n",
       "   'uuid': '9d5b5edb-254a-4d54-b430-776f1f00eaf0'},\n",
       "  {'name': 'Science',\n",
       "   'subtitle': 'Learn about science and more from the best universities and institutions around the world.',\n",
       "   'description': '<p>Science is one of the most popular subjects on edX and online courses range from beginner to advanced levels. Areas of study include neuroscience, genotyping, DNA methylation, innovations in environmental science, modern astrophysics and more from top universities and institutions worldwide.</p>\\n<p>Related Topics - <a href=\"/learn/biology\">Biology</a> | <a href=\"/learn/biotechnology\">Biotechnology</a> | <a href=\"https://www.edx.org/learn/climate-change\">Climate Change</a> | <a href=\"/learn/genetics\">Genetics</a> | <a href=\"/learn/health-wellness\">Health & Wellness</a> | <a href=\"/learn/human-anatomy\">Human Anatomy</a> | <a href=\"https://www.edx.org/learn/healthcare\">Heatlhcare</a> | <a href=\"/learn/life-sciences\">Life Sciences</a> | <a href=\"/learn/medicine\">Medicine</a> | <a href=\"/learn/microbiology\">Microbiology</a> | <a href=\"/learn/molecular-biology\">Molecular Biology</a> | <a href=\"/learn/neuroscience\">Neuroscience</a> | <a href=\"/learn/physiology\">Physiology</a> | <a href=\"/learn/astronomy\">Astronomy</a> | <a href=\"/learn/chemistry\">Chemistry</a> | <a href=\"/learn/earth-sciences\">Earth Sciences</a> | <a href=\"/learn/environmental-science\">Environmental Science</a> | <a href=\"/learn/geology\">Geology</a> | <a href=\"/learn/nature\">Nature</a> | <a href=\"/learn/organic-chemistry\">Organic Chemistry</a> | <a href=\"/learn/physics\">Physics</a> | <a href=\"https://www.edx.org/learn/quantum-physics-mechanics\">Quantum Physics</a> | <a href=\"/learn/social-science\">Social Science</a> | <a href=\"https://www.edx.org/learn/sustainable-development\">Sustainable Development</a></p>',\n",
       "   'banner_image_url': 'https://www.edx.org/sites/default/files/neuron-1440x210.jpg',\n",
       "   'card_image_url': 'https://www.edx.org/sites/default/files/subject/image/card/science.jpg',\n",
       "   'slug': 'science',\n",
       "   'uuid': 'f830cfeb-bb7e-46ed-859d-e2a9f136499f'}],\n",
       " 'language': 'en-us',\n",
       " 'course_start': '2018-12-06T06:00:00Z',\n",
       " 'course_end': '2019-09-26T23:59:00Z',\n",
       " 'enrollment_start': None,\n",
       " 'enrollment_end': None,\n",
       " 'effort_min': 2,\n",
       " 'effort_max': 3,\n",
       " 'weeks_to_complete': 6,\n",
       " 'instructor': [],\n",
       " 'delivery_type': 'online',\n",
       " 'skills': ''}"
      ]
     },
     "execution_count": 16,
     "metadata": {},
     "output_type": "execute_result"
    }
   ],
   "source": [
    "ec_json[0]"
   ]
  },
  {
   "cell_type": "code",
   "execution_count": 17,
   "metadata": {},
   "outputs": [],
   "source": [
    "ec = pd.DataFrame({'title': [course['title'] for course in ec_json], \n",
    "              'description': [course['description_full'] for course in ec_json],\n",
    "              'skill': [course['skills'] for course in ec_json]})"
   ]
  },
  {
   "cell_type": "code",
   "execution_count": 18,
   "metadata": {},
   "outputs": [
    {
     "data": {
      "text/plain": [
       "(1406, 3)"
      ]
     },
     "execution_count": 18,
     "metadata": {},
     "output_type": "execute_result"
    }
   ],
   "source": [
    "ec.shape"
   ]
  },
  {
   "cell_type": "code",
   "execution_count": 19,
   "metadata": {},
   "outputs": [
    {
     "data": {
      "text/html": [
       "<div>\n",
       "<style scoped>\n",
       "    .dataframe tbody tr th:only-of-type {\n",
       "        vertical-align: middle;\n",
       "    }\n",
       "\n",
       "    .dataframe tbody tr th {\n",
       "        vertical-align: top;\n",
       "    }\n",
       "\n",
       "    .dataframe thead th {\n",
       "        text-align: right;\n",
       "    }\n",
       "</style>\n",
       "<table border=\"1\" class=\"dataframe\">\n",
       "  <thead>\n",
       "    <tr style=\"text-align: right;\">\n",
       "      <th></th>\n",
       "      <th>title</th>\n",
       "      <th>description</th>\n",
       "      <th>skill</th>\n",
       "    </tr>\n",
       "  </thead>\n",
       "  <tbody>\n",
       "    <tr>\n",
       "      <th>0</th>\n",
       "      <td>Evolution of the Human Sociality: A Quest for ...</td>\n",
       "      <td>&lt;p&gt;Through the process of evolution, animals h...</td>\n",
       "      <td></td>\n",
       "    </tr>\n",
       "    <tr>\n",
       "      <th>1</th>\n",
       "      <td>The Chemistry of Life</td>\n",
       "      <td>&lt;p&gt;Chemistry and biology are traditionally tau...</td>\n",
       "      <td></td>\n",
       "    </tr>\n",
       "    <tr>\n",
       "      <th>2</th>\n",
       "      <td>The Extremes of Life: Microbes and Their Diver...</td>\n",
       "      <td>&lt;p&gt;Life on our planet is diverse. While we can...</td>\n",
       "      <td></td>\n",
       "    </tr>\n",
       "    <tr>\n",
       "      <th>3</th>\n",
       "      <td>应对气候变化的中国视角 | China’s Perspective on Climate C...</td>\n",
       "      <td>&lt;p&gt;This course will provide China’s perspectiv...</td>\n",
       "      <td></td>\n",
       "    </tr>\n",
       "    <tr>\n",
       "      <th>4</th>\n",
       "      <td>Introduction to Statistical Methods for Gene M...</td>\n",
       "      <td>&lt;p&gt;This data course is a primer to statistical...</td>\n",
       "      <td></td>\n",
       "    </tr>\n",
       "    <tr>\n",
       "      <th>5</th>\n",
       "      <td>Chinese History From Warring States to the Tan...</td>\n",
       "      <td>&lt;p&gt;&lt;em&gt;Zizhi Tongjian _is one of the earliest ...</td>\n",
       "      <td></td>\n",
       "    </tr>\n",
       "    <tr>\n",
       "      <th>6</th>\n",
       "      <td>文物精品与文化中国：农业与制造业 | Relics in Chinese History -...</td>\n",
       "      <td>&lt;p&gt;Chinese archaeology is one of the fastest g...</td>\n",
       "      <td></td>\n",
       "    </tr>\n",
       "    <tr>\n",
       "      <th>7</th>\n",
       "      <td>文物精品与文化中国：天文与医药 | Relics of Chinese History - ...</td>\n",
       "      <td>&lt;p&gt;Chinese archaeology is one of the fastest-g...</td>\n",
       "      <td></td>\n",
       "    </tr>\n",
       "    <tr>\n",
       "      <th>8</th>\n",
       "      <td>文物精品与文化中国：文字与乐礼 | Relics of Chinese History - ...</td>\n",
       "      <td>&lt;p&gt;Chinese archaeology is one of the fastest-g...</td>\n",
       "      <td></td>\n",
       "    </tr>\n",
       "    <tr>\n",
       "      <th>9</th>\n",
       "      <td>Introduction to Mao Zedong Thought | 毛泽东思想概论</td>\n",
       "      <td>&lt;p&gt;With the world’s biggest population and sec...</td>\n",
       "      <td></td>\n",
       "    </tr>\n",
       "  </tbody>\n",
       "</table>\n",
       "</div>"
      ],
      "text/plain": [
       "                                               title  \\\n",
       "0  Evolution of the Human Sociality: A Quest for ...   \n",
       "1                              The Chemistry of Life   \n",
       "2  The Extremes of Life: Microbes and Their Diver...   \n",
       "3  应对气候变化的中国视角 | China’s Perspective on Climate C...   \n",
       "4  Introduction to Statistical Methods for Gene M...   \n",
       "5  Chinese History From Warring States to the Tan...   \n",
       "6  文物精品与文化中国：农业与制造业 | Relics in Chinese History -...   \n",
       "7  文物精品与文化中国：天文与医药 | Relics of Chinese History - ...   \n",
       "8  文物精品与文化中国：文字与乐礼 | Relics of Chinese History - ...   \n",
       "9       Introduction to Mao Zedong Thought | 毛泽东思想概论   \n",
       "\n",
       "                                         description skill  \n",
       "0  <p>Through the process of evolution, animals h...        \n",
       "1  <p>Chemistry and biology are traditionally tau...        \n",
       "2  <p>Life on our planet is diverse. While we can...        \n",
       "3  <p>This course will provide China’s perspectiv...        \n",
       "4  <p>This data course is a primer to statistical...        \n",
       "5  <p><em>Zizhi Tongjian _is one of the earliest ...        \n",
       "6  <p>Chinese archaeology is one of the fastest g...        \n",
       "7  <p>Chinese archaeology is one of the fastest-g...        \n",
       "8  <p>Chinese archaeology is one of the fastest-g...        \n",
       "9  <p>With the world’s biggest population and sec...        "
      ]
     },
     "execution_count": 19,
     "metadata": {},
     "output_type": "execute_result"
    }
   ],
   "source": [
    "ec.head(10)"
   ]
  },
  {
   "cell_type": "code",
   "execution_count": 20,
   "metadata": {},
   "outputs": [
    {
     "data": {
      "text/plain": [
       "0"
      ]
     },
     "execution_count": 20,
     "metadata": {},
     "output_type": "execute_result"
    }
   ],
   "source": [
    "ec['skill'].isnull().sum()"
   ]
  },
  {
   "cell_type": "code",
   "execution_count": 21,
   "metadata": {},
   "outputs": [],
   "source": [
    "ec['skill'] = ec['skill'].apply(empty_to_null)"
   ]
  },
  {
   "cell_type": "code",
   "execution_count": 22,
   "metadata": {
    "scrolled": false
   },
   "outputs": [
    {
     "data": {
      "text/html": [
       "<div>\n",
       "<style scoped>\n",
       "    .dataframe tbody tr th:only-of-type {\n",
       "        vertical-align: middle;\n",
       "    }\n",
       "\n",
       "    .dataframe tbody tr th {\n",
       "        vertical-align: top;\n",
       "    }\n",
       "\n",
       "    .dataframe thead th {\n",
       "        text-align: right;\n",
       "    }\n",
       "</style>\n",
       "<table border=\"1\" class=\"dataframe\">\n",
       "  <thead>\n",
       "    <tr style=\"text-align: right;\">\n",
       "      <th></th>\n",
       "      <th>title</th>\n",
       "      <th>description</th>\n",
       "      <th>skill</th>\n",
       "    </tr>\n",
       "  </thead>\n",
       "  <tbody>\n",
       "    <tr>\n",
       "      <th>0</th>\n",
       "      <td>Evolution of the Human Sociality: A Quest for ...</td>\n",
       "      <td>&lt;p&gt;Through the process of evolution, animals h...</td>\n",
       "      <td>NaN</td>\n",
       "    </tr>\n",
       "    <tr>\n",
       "      <th>1</th>\n",
       "      <td>The Chemistry of Life</td>\n",
       "      <td>&lt;p&gt;Chemistry and biology are traditionally tau...</td>\n",
       "      <td>NaN</td>\n",
       "    </tr>\n",
       "    <tr>\n",
       "      <th>2</th>\n",
       "      <td>The Extremes of Life: Microbes and Their Diver...</td>\n",
       "      <td>&lt;p&gt;Life on our planet is diverse. While we can...</td>\n",
       "      <td>NaN</td>\n",
       "    </tr>\n",
       "    <tr>\n",
       "      <th>3</th>\n",
       "      <td>应对气候变化的中国视角 | China’s Perspective on Climate C...</td>\n",
       "      <td>&lt;p&gt;This course will provide China’s perspectiv...</td>\n",
       "      <td>NaN</td>\n",
       "    </tr>\n",
       "    <tr>\n",
       "      <th>4</th>\n",
       "      <td>Introduction to Statistical Methods for Gene M...</td>\n",
       "      <td>&lt;p&gt;This data course is a primer to statistical...</td>\n",
       "      <td>NaN</td>\n",
       "    </tr>\n",
       "    <tr>\n",
       "      <th>5</th>\n",
       "      <td>Chinese History From Warring States to the Tan...</td>\n",
       "      <td>&lt;p&gt;&lt;em&gt;Zizhi Tongjian _is one of the earliest ...</td>\n",
       "      <td>NaN</td>\n",
       "    </tr>\n",
       "    <tr>\n",
       "      <th>6</th>\n",
       "      <td>文物精品与文化中国：农业与制造业 | Relics in Chinese History -...</td>\n",
       "      <td>&lt;p&gt;Chinese archaeology is one of the fastest g...</td>\n",
       "      <td>NaN</td>\n",
       "    </tr>\n",
       "    <tr>\n",
       "      <th>7</th>\n",
       "      <td>文物精品与文化中国：天文与医药 | Relics of Chinese History - ...</td>\n",
       "      <td>&lt;p&gt;Chinese archaeology is one of the fastest-g...</td>\n",
       "      <td>NaN</td>\n",
       "    </tr>\n",
       "    <tr>\n",
       "      <th>8</th>\n",
       "      <td>文物精品与文化中国：文字与乐礼 | Relics of Chinese History - ...</td>\n",
       "      <td>&lt;p&gt;Chinese archaeology is one of the fastest-g...</td>\n",
       "      <td>NaN</td>\n",
       "    </tr>\n",
       "    <tr>\n",
       "      <th>9</th>\n",
       "      <td>Introduction to Mao Zedong Thought | 毛泽东思想概论</td>\n",
       "      <td>&lt;p&gt;With the world’s biggest population and sec...</td>\n",
       "      <td>NaN</td>\n",
       "    </tr>\n",
       "  </tbody>\n",
       "</table>\n",
       "</div>"
      ],
      "text/plain": [
       "                                               title  \\\n",
       "0  Evolution of the Human Sociality: A Quest for ...   \n",
       "1                              The Chemistry of Life   \n",
       "2  The Extremes of Life: Microbes and Their Diver...   \n",
       "3  应对气候变化的中国视角 | China’s Perspective on Climate C...   \n",
       "4  Introduction to Statistical Methods for Gene M...   \n",
       "5  Chinese History From Warring States to the Tan...   \n",
       "6  文物精品与文化中国：农业与制造业 | Relics in Chinese History -...   \n",
       "7  文物精品与文化中国：天文与医药 | Relics of Chinese History - ...   \n",
       "8  文物精品与文化中国：文字与乐礼 | Relics of Chinese History - ...   \n",
       "9       Introduction to Mao Zedong Thought | 毛泽东思想概论   \n",
       "\n",
       "                                         description skill  \n",
       "0  <p>Through the process of evolution, animals h...   NaN  \n",
       "1  <p>Chemistry and biology are traditionally tau...   NaN  \n",
       "2  <p>Life on our planet is diverse. While we can...   NaN  \n",
       "3  <p>This course will provide China’s perspectiv...   NaN  \n",
       "4  <p>This data course is a primer to statistical...   NaN  \n",
       "5  <p><em>Zizhi Tongjian _is one of the earliest ...   NaN  \n",
       "6  <p>Chinese archaeology is one of the fastest g...   NaN  \n",
       "7  <p>Chinese archaeology is one of the fastest-g...   NaN  \n",
       "8  <p>Chinese archaeology is one of the fastest-g...   NaN  \n",
       "9  <p>With the world’s biggest population and sec...   NaN  "
      ]
     },
     "execution_count": 22,
     "metadata": {},
     "output_type": "execute_result"
    }
   ],
   "source": [
    "ec.head(10)"
   ]
  },
  {
   "cell_type": "code",
   "execution_count": 23,
   "metadata": {},
   "outputs": [
    {
     "data": {
      "text/plain": [
       "1062"
      ]
     },
     "execution_count": 23,
     "metadata": {},
     "output_type": "execute_result"
    }
   ],
   "source": [
    "ec['skill'].isnull().sum()"
   ]
  },
  {
   "cell_type": "code",
   "execution_count": 24,
   "metadata": {},
   "outputs": [
    {
     "data": {
      "text/plain": [
       "(1406, 3)"
      ]
     },
     "execution_count": 24,
     "metadata": {},
     "output_type": "execute_result"
    }
   ],
   "source": [
    "ec.shape"
   ]
  },
  {
   "cell_type": "code",
   "execution_count": 25,
   "metadata": {
    "scrolled": true
   },
   "outputs": [],
   "source": [
    "# take the skill out of the list for labeled entries\n",
    "ec.loc[ec['skill'].notna(),['skill']] = ec[ec['skill'].notna()]['skill'].map(lambda x: x[0])"
   ]
  },
  {
   "cell_type": "code",
   "execution_count": 26,
   "metadata": {
    "scrolled": true
   },
   "outputs": [
    {
     "data": {
      "text/html": [
       "<div>\n",
       "<style scoped>\n",
       "    .dataframe tbody tr th:only-of-type {\n",
       "        vertical-align: middle;\n",
       "    }\n",
       "\n",
       "    .dataframe tbody tr th {\n",
       "        vertical-align: top;\n",
       "    }\n",
       "\n",
       "    .dataframe thead th {\n",
       "        text-align: right;\n",
       "    }\n",
       "</style>\n",
       "<table border=\"1\" class=\"dataframe\">\n",
       "  <thead>\n",
       "    <tr style=\"text-align: right;\">\n",
       "      <th></th>\n",
       "      <th>title</th>\n",
       "      <th>description</th>\n",
       "      <th>skill</th>\n",
       "    </tr>\n",
       "  </thead>\n",
       "  <tbody>\n",
       "    <tr>\n",
       "      <th>0</th>\n",
       "      <td>Evolution of the Human Sociality: A Quest for ...</td>\n",
       "      <td>&lt;p&gt;Through the process of evolution, animals h...</td>\n",
       "      <td>NaN</td>\n",
       "    </tr>\n",
       "    <tr>\n",
       "      <th>1</th>\n",
       "      <td>The Chemistry of Life</td>\n",
       "      <td>&lt;p&gt;Chemistry and biology are traditionally tau...</td>\n",
       "      <td>NaN</td>\n",
       "    </tr>\n",
       "    <tr>\n",
       "      <th>2</th>\n",
       "      <td>The Extremes of Life: Microbes and Their Diver...</td>\n",
       "      <td>&lt;p&gt;Life on our planet is diverse. While we can...</td>\n",
       "      <td>NaN</td>\n",
       "    </tr>\n",
       "    <tr>\n",
       "      <th>3</th>\n",
       "      <td>应对气候变化的中国视角 | China’s Perspective on Climate C...</td>\n",
       "      <td>&lt;p&gt;This course will provide China’s perspectiv...</td>\n",
       "      <td>NaN</td>\n",
       "    </tr>\n",
       "    <tr>\n",
       "      <th>4</th>\n",
       "      <td>Introduction to Statistical Methods for Gene M...</td>\n",
       "      <td>&lt;p&gt;This data course is a primer to statistical...</td>\n",
       "      <td>NaN</td>\n",
       "    </tr>\n",
       "    <tr>\n",
       "      <th>5</th>\n",
       "      <td>Chinese History From Warring States to the Tan...</td>\n",
       "      <td>&lt;p&gt;&lt;em&gt;Zizhi Tongjian _is one of the earliest ...</td>\n",
       "      <td>NaN</td>\n",
       "    </tr>\n",
       "    <tr>\n",
       "      <th>6</th>\n",
       "      <td>文物精品与文化中国：农业与制造业 | Relics in Chinese History -...</td>\n",
       "      <td>&lt;p&gt;Chinese archaeology is one of the fastest g...</td>\n",
       "      <td>NaN</td>\n",
       "    </tr>\n",
       "    <tr>\n",
       "      <th>7</th>\n",
       "      <td>文物精品与文化中国：天文与医药 | Relics of Chinese History - ...</td>\n",
       "      <td>&lt;p&gt;Chinese archaeology is one of the fastest-g...</td>\n",
       "      <td>NaN</td>\n",
       "    </tr>\n",
       "    <tr>\n",
       "      <th>8</th>\n",
       "      <td>文物精品与文化中国：文字与乐礼 | Relics of Chinese History - ...</td>\n",
       "      <td>&lt;p&gt;Chinese archaeology is one of the fastest-g...</td>\n",
       "      <td>NaN</td>\n",
       "    </tr>\n",
       "    <tr>\n",
       "      <th>9</th>\n",
       "      <td>Introduction to Mao Zedong Thought | 毛泽东思想概论</td>\n",
       "      <td>&lt;p&gt;With the world’s biggest population and sec...</td>\n",
       "      <td>NaN</td>\n",
       "    </tr>\n",
       "  </tbody>\n",
       "</table>\n",
       "</div>"
      ],
      "text/plain": [
       "                                               title  \\\n",
       "0  Evolution of the Human Sociality: A Quest for ...   \n",
       "1                              The Chemistry of Life   \n",
       "2  The Extremes of Life: Microbes and Their Diver...   \n",
       "3  应对气候变化的中国视角 | China’s Perspective on Climate C...   \n",
       "4  Introduction to Statistical Methods for Gene M...   \n",
       "5  Chinese History From Warring States to the Tan...   \n",
       "6  文物精品与文化中国：农业与制造业 | Relics in Chinese History -...   \n",
       "7  文物精品与文化中国：天文与医药 | Relics of Chinese History - ...   \n",
       "8  文物精品与文化中国：文字与乐礼 | Relics of Chinese History - ...   \n",
       "9       Introduction to Mao Zedong Thought | 毛泽东思想概论   \n",
       "\n",
       "                                         description skill  \n",
       "0  <p>Through the process of evolution, animals h...   NaN  \n",
       "1  <p>Chemistry and biology are traditionally tau...   NaN  \n",
       "2  <p>Life on our planet is diverse. While we can...   NaN  \n",
       "3  <p>This course will provide China’s perspectiv...   NaN  \n",
       "4  <p>This data course is a primer to statistical...   NaN  \n",
       "5  <p><em>Zizhi Tongjian _is one of the earliest ...   NaN  \n",
       "6  <p>Chinese archaeology is one of the fastest g...   NaN  \n",
       "7  <p>Chinese archaeology is one of the fastest-g...   NaN  \n",
       "8  <p>Chinese archaeology is one of the fastest-g...   NaN  \n",
       "9  <p>With the world’s biggest population and sec...   NaN  "
      ]
     },
     "execution_count": 26,
     "metadata": {},
     "output_type": "execute_result"
    }
   ],
   "source": [
    "ec.head(10)"
   ]
  },
  {
   "cell_type": "code",
   "execution_count": 27,
   "metadata": {},
   "outputs": [],
   "source": [
    "# replace None in description with empty str\n",
    "ec.loc[ec['description'].isnull(), ['description']] = ''"
   ]
  },
  {
   "cell_type": "code",
   "execution_count": 28,
   "metadata": {},
   "outputs": [
    {
     "data": {
      "text/plain": [
       "0"
      ]
     },
     "execution_count": 28,
     "metadata": {},
     "output_type": "execute_result"
    }
   ],
   "source": [
    "ec['description'].isnull().sum()"
   ]
  },
  {
   "cell_type": "code",
   "execution_count": 29,
   "metadata": {},
   "outputs": [],
   "source": [
    "ec['description'] = ec['description'].map(lambda x: x.replace('<p>', ''))\n",
    "ec['description'] = ec['description'].map(lambda x: x.replace('<em>', ''))\n",
    "ec['description'] = ec['description'].map(lambda x: x.replace('<strong>', ''))"
   ]
  },
  {
   "cell_type": "code",
   "execution_count": 30,
   "metadata": {},
   "outputs": [],
   "source": [
    "ec_labeled = ec[ec['skill'].notna()]"
   ]
  },
  {
   "cell_type": "code",
   "execution_count": 31,
   "metadata": {},
   "outputs": [
    {
     "data": {
      "text/plain": [
       "(344, 3)"
      ]
     },
     "execution_count": 31,
     "metadata": {},
     "output_type": "execute_result"
    }
   ],
   "source": [
    "ec_labeled.shape"
   ]
  },
  {
   "cell_type": "code",
   "execution_count": 32,
   "metadata": {
    "scrolled": true
   },
   "outputs": [
    {
     "data": {
      "text/html": [
       "<div>\n",
       "<style scoped>\n",
       "    .dataframe tbody tr th:only-of-type {\n",
       "        vertical-align: middle;\n",
       "    }\n",
       "\n",
       "    .dataframe tbody tr th {\n",
       "        vertical-align: top;\n",
       "    }\n",
       "\n",
       "    .dataframe thead th {\n",
       "        text-align: right;\n",
       "    }\n",
       "</style>\n",
       "<table border=\"1\" class=\"dataframe\">\n",
       "  <thead>\n",
       "    <tr style=\"text-align: right;\">\n",
       "      <th></th>\n",
       "      <th>title</th>\n",
       "      <th>description</th>\n",
       "      <th>skill</th>\n",
       "    </tr>\n",
       "  </thead>\n",
       "  <tbody>\n",
       "    <tr>\n",
       "      <th>14</th>\n",
       "      <td>Calculus 1B: Integration</td>\n",
       "      <td>How long should the handle of your spoon be so...</td>\n",
       "      <td>Calculus</td>\n",
       "    </tr>\n",
       "    <tr>\n",
       "      <th>15</th>\n",
       "      <td>Calculus 1C: Coordinate Systems &amp; Infinite Series</td>\n",
       "      <td>How did Newton describe the orbits of the plan...</td>\n",
       "      <td>Calculus</td>\n",
       "    </tr>\n",
       "    <tr>\n",
       "      <th>54</th>\n",
       "      <td>Behavioural Economics in Action</td>\n",
       "      <td>How can we get people to save more money, eat ...</td>\n",
       "      <td>Economics</td>\n",
       "    </tr>\n",
       "    <tr>\n",
       "      <th>68</th>\n",
       "      <td>Marketing Analytics: Marketing Measurement Str...</td>\n",
       "      <td>Begin your journey in a new career in marketin...</td>\n",
       "      <td>Marketing Analytics</td>\n",
       "    </tr>\n",
       "    <tr>\n",
       "      <th>69</th>\n",
       "      <td>Marketing Analytics: Price and Promotion Analy...</td>\n",
       "      <td>In this marketing course, you will learn how t...</td>\n",
       "      <td>Marketing Analytics</td>\n",
       "    </tr>\n",
       "    <tr>\n",
       "      <th>70</th>\n",
       "      <td>Marketing Analytics: Competitive Analysis and ...</td>\n",
       "      <td>In this marketing course, you will learn about...</td>\n",
       "      <td>Marketing Analytics</td>\n",
       "    </tr>\n",
       "    <tr>\n",
       "      <th>71</th>\n",
       "      <td>Marketing Analytics: Products, Distribution an...</td>\n",
       "      <td>In this marketing course, you will learn how t...</td>\n",
       "      <td>Marketing Analytics</td>\n",
       "    </tr>\n",
       "    <tr>\n",
       "      <th>90</th>\n",
       "      <td>Supply Chain Analytics</td>\n",
       "      <td>Supply chains are complex systems involving mu...</td>\n",
       "      <td>Supply Chain Data Analysis</td>\n",
       "    </tr>\n",
       "    <tr>\n",
       "      <th>91</th>\n",
       "      <td>Supply Chain Fundamentals</td>\n",
       "      <td>This Supply Chain Fundamentals course is part ...</td>\n",
       "      <td>Supply Chain Knowledge</td>\n",
       "    </tr>\n",
       "    <tr>\n",
       "      <th>92</th>\n",
       "      <td>Supply Chain Design</td>\n",
       "      <td>This Supply Chain Design course is part of the...</td>\n",
       "      <td>Supply Chain Model Design</td>\n",
       "    </tr>\n",
       "  </tbody>\n",
       "</table>\n",
       "</div>"
      ],
      "text/plain": [
       "                                                title  \\\n",
       "14                           Calculus 1B: Integration   \n",
       "15  Calculus 1C: Coordinate Systems & Infinite Series   \n",
       "54                    Behavioural Economics in Action   \n",
       "68  Marketing Analytics: Marketing Measurement Str...   \n",
       "69  Marketing Analytics: Price and Promotion Analy...   \n",
       "70  Marketing Analytics: Competitive Analysis and ...   \n",
       "71  Marketing Analytics: Products, Distribution an...   \n",
       "90                             Supply Chain Analytics   \n",
       "91                          Supply Chain Fundamentals   \n",
       "92                                Supply Chain Design   \n",
       "\n",
       "                                          description  \\\n",
       "14  How long should the handle of your spoon be so...   \n",
       "15  How did Newton describe the orbits of the plan...   \n",
       "54  How can we get people to save more money, eat ...   \n",
       "68  Begin your journey in a new career in marketin...   \n",
       "69  In this marketing course, you will learn how t...   \n",
       "70  In this marketing course, you will learn about...   \n",
       "71  In this marketing course, you will learn how t...   \n",
       "90  Supply chains are complex systems involving mu...   \n",
       "91  This Supply Chain Fundamentals course is part ...   \n",
       "92  This Supply Chain Design course is part of the...   \n",
       "\n",
       "                         skill  \n",
       "14                    Calculus  \n",
       "15                    Calculus  \n",
       "54                   Economics  \n",
       "68         Marketing Analytics  \n",
       "69         Marketing Analytics  \n",
       "70         Marketing Analytics  \n",
       "71         Marketing Analytics  \n",
       "90  Supply Chain Data Analysis  \n",
       "91      Supply Chain Knowledge  \n",
       "92   Supply Chain Model Design  "
      ]
     },
     "execution_count": 32,
     "metadata": {},
     "output_type": "execute_result"
    }
   ],
   "source": [
    "ec_labeled.head(10)"
   ]
  },
  {
   "cell_type": "markdown",
   "metadata": {},
   "source": [
    "# futurelearn-courses"
   ]
  },
  {
   "cell_type": "code",
   "execution_count": 33,
   "metadata": {},
   "outputs": [],
   "source": [
    "fl_json = load_json('futurelearn-courses')"
   ]
  },
  {
   "cell_type": "code",
   "execution_count": 34,
   "metadata": {
    "scrolled": true
   },
   "outputs": [
    {
     "data": {
      "text/plain": [
       "{'_id': {'$oid': '5c8c4bb0edc27e807c68528c'},\n",
       " 'uuid': 'baab3813-31a9-4e25-9d97-21ecffca2f97',\n",
       " 'url': 'https://www.futurelearn.com/courses/good-brain-bad-brain-basics?utm_campaign=Courses+feed&utm_medium=courses-feed&utm_source=courses-feed',\n",
       " 'image_url': 'https://ugc.futurelearn.com/uploads/images/69/6c/regular_696ca98e-c62a-4be3-8654-adb47abb2167.jpg',\n",
       " 'introduction': 'What do we know and what are we discovering about the form and function of the human brain? Find out with this online course.',\n",
       " 'description': 'Understand your own amazing brainWe will look at what your brain is made of, how these components are organised and how they function.This information is helping neuroscientists across the globe understand the brain - and how it is able to do everything from stopping you falling off your bike, to making you feel sad that your football team lost their game, to helping you learn how your brain works.This course is aimed at anyone with an interest in finding out the fundamentals of how the human brain works. It assumes that you will have basic school-level biological knowledge.You might be doing your A-levels and considering a neuroscience-related degree; a computer-scientist interested in neural networks; or in business and wondering how the workings of your employees’ brains influences the culture of your business.',\n",
       " 'requirements': 'This course is aimed at anyone with an interest in finding out the fundamentals of how the human brain works. It assumes that you will have basic school-level biological knowledge. You might be doing your A-levels and considering a neuroscience-related degree; a computer-scientist interested in neural networks; or in business and wondering how the workings of your employees’ brains influences the culture of your business.',\n",
       " 'learning_outcomes': ['Describe the key features of the cells that make up the human nervous system that allow them to carry out their function',\n",
       "  'Explain how the arrangement of these cells within the human brain relates to brain function',\n",
       "  'Explain how drugs can impact on the normal function of neurones of the brain',\n",
       "  'Discuss how brain disorders can impact on the functioning of the brain'],\n",
       " 'language': 'en',\n",
       " 'hours_per_week': 3.0,\n",
       " 'has_certificates': True,\n",
       " 'categories': 'Health & Psychology',\n",
       " 'educator': 'Alison Cooper',\n",
       " 'organisation': {'url': 'http://www.birmingham.ac.uk/',\n",
       "  'name': 'University of Birmingham',\n",
       "  'logo_url': 'https://ugc.futurelearn.com/uploads/images/5b/ff/5bfff2ed-4fd1-4479-98e9-30c0fadd5cb6.png'},\n",
       " 'trailer': '//view.vzaar.com/2882955/video',\n",
       " 'runs': [{'uuid': 'b809ee34-0236-4b2d-a1dd-47fa4a89c056',\n",
       "   'start_date': '2014-01-27',\n",
       "   'duration_in_weeks': 3},\n",
       "  {'uuid': 'dbffe4fc-570c-427a-adea-c460557d84ba',\n",
       "   'start_date': '2014-06-23',\n",
       "   'duration_in_weeks': 3},\n",
       "  {'uuid': '8431a107-7ef4-479c-9459-5fd41b03769f',\n",
       "   'start_date': '2015-06-08',\n",
       "   'duration_in_weeks': 3},\n",
       "  {'uuid': '3de455c7-d2f1-44c8-b7dc-a1c1369b4929',\n",
       "   'start_date': '2016-06-13',\n",
       "   'duration_in_weeks': 3},\n",
       "  {'uuid': '44928c14-4f89-439a-a418-f7e553ab7bda',\n",
       "   'start_date': '2016-09-19',\n",
       "   'duration_in_weeks': 3},\n",
       "  {'uuid': '34c6fe6d-7ab4-46fe-b1c2-2f243008759b',\n",
       "   'start_date': '2017-03-27',\n",
       "   'duration_in_weeks': 3},\n",
       "  {'uuid': 'a4dc650b-e036-457a-beb0-6a224f4d3b53',\n",
       "   'start_date': '2017-06-26',\n",
       "   'duration_in_weeks': 3},\n",
       "  {'uuid': '68b2ac91-37ae-431b-951b-6d1ef66b1fbe',\n",
       "   'start_date': '2018-01-15',\n",
       "   'duration_in_weeks': 3},\n",
       "  {'uuid': 'ac7658c6-d8b4-448e-94b3-b0c11d28d1d0',\n",
       "   'start_date': '2018-06-11',\n",
       "   'duration_in_weeks': 3},\n",
       "  {'uuid': 'b20031e0-fc3b-452a-8827-8bf735bc62d2',\n",
       "   'start_date': '2018-11-26',\n",
       "   'duration_in_weeks': 3}],\n",
       " 'open_for_enrolment': False,\n",
       " 'skill': [''],\n",
       " 'description_short': 'What do we know and what are we discovering about the form and function of the human brain? Find out with this online course.',\n",
       " 'effort_max': 3.0,\n",
       " 'effort_min': 3.0,\n",
       " 'entitlements': [{'price': 0, 'currency': 'USD'}],\n",
       " 'instructor': ['Alison Cooper'],\n",
       " 'title': 'Good Brain, Bad Brain: Basics',\n",
       " 'weeks_to_complete': 3}"
      ]
     },
     "execution_count": 34,
     "metadata": {},
     "output_type": "execute_result"
    }
   ],
   "source": [
    "fl_json[0]"
   ]
  },
  {
   "cell_type": "code",
   "execution_count": 35,
   "metadata": {},
   "outputs": [],
   "source": [
    "fl = pd.DataFrame({'title': [course['title'] for course in fl_json], \n",
    "              'description': [course['description'] for course in fl_json],\n",
    "              'skill': [course['skill'] for course in fl_json]})"
   ]
  },
  {
   "cell_type": "code",
   "execution_count": 36,
   "metadata": {},
   "outputs": [
    {
     "data": {
      "text/plain": [
       "(931, 3)"
      ]
     },
     "execution_count": 36,
     "metadata": {},
     "output_type": "execute_result"
    }
   ],
   "source": [
    "fl.shape"
   ]
  },
  {
   "cell_type": "code",
   "execution_count": 37,
   "metadata": {},
   "outputs": [
    {
     "data": {
      "text/plain": [
       "0"
      ]
     },
     "execution_count": 37,
     "metadata": {},
     "output_type": "execute_result"
    }
   ],
   "source": [
    "fl['skill'].isnull().sum()"
   ]
  },
  {
   "cell_type": "code",
   "execution_count": 38,
   "metadata": {
    "scrolled": true
   },
   "outputs": [
    {
     "data": {
      "text/html": [
       "<div>\n",
       "<style scoped>\n",
       "    .dataframe tbody tr th:only-of-type {\n",
       "        vertical-align: middle;\n",
       "    }\n",
       "\n",
       "    .dataframe tbody tr th {\n",
       "        vertical-align: top;\n",
       "    }\n",
       "\n",
       "    .dataframe thead th {\n",
       "        text-align: right;\n",
       "    }\n",
       "</style>\n",
       "<table border=\"1\" class=\"dataframe\">\n",
       "  <thead>\n",
       "    <tr style=\"text-align: right;\">\n",
       "      <th></th>\n",
       "      <th>title</th>\n",
       "      <th>description</th>\n",
       "      <th>skill</th>\n",
       "    </tr>\n",
       "  </thead>\n",
       "  <tbody>\n",
       "    <tr>\n",
       "      <th>0</th>\n",
       "      <td>Good Brain, Bad Brain: Basics</td>\n",
       "      <td>Understand your own amazing brainWe will look ...</td>\n",
       "      <td>[]</td>\n",
       "    </tr>\n",
       "    <tr>\n",
       "      <th>1</th>\n",
       "      <td>Forensic Science and Criminal Justice</td>\n",
       "      <td>Over the past two decades, the criminal justic...</td>\n",
       "      <td>[]</td>\n",
       "    </tr>\n",
       "    <tr>\n",
       "      <th>2</th>\n",
       "      <td>Exploring Our Ocean</td>\n",
       "      <td>Discover how you can play a part in the safe k...</td>\n",
       "      <td>[]</td>\n",
       "    </tr>\n",
       "    <tr>\n",
       "      <th>3</th>\n",
       "      <td>Physical Theatre: Meyerhold and Biomechanics</td>\n",
       "      <td>Discover Meyerhold’s technique of theatrical b...</td>\n",
       "      <td>[]</td>\n",
       "    </tr>\n",
       "    <tr>\n",
       "      <th>4</th>\n",
       "      <td>Begin Programming: Build Your First Mobile Game</td>\n",
       "      <td>Take your first steps into the world of comput...</td>\n",
       "      <td>[Java,  Mobile Development]</td>\n",
       "    </tr>\n",
       "    <tr>\n",
       "      <th>5</th>\n",
       "      <td>Improving Your Image: Dental Photography in Pr...</td>\n",
       "      <td>This free course will cover all aspects of the...</td>\n",
       "      <td>[Dental Technology]</td>\n",
       "    </tr>\n",
       "    <tr>\n",
       "      <th>6</th>\n",
       "      <td>Medicines Adherence: Supporting Patients with ...</td>\n",
       "      <td>It is estimated that 30-50% of patients do not...</td>\n",
       "      <td>[]</td>\n",
       "    </tr>\n",
       "    <tr>\n",
       "      <th>7</th>\n",
       "      <td>Corpus Linguistics: Method, Analysis, Interpre...</td>\n",
       "      <td>Learn how to build and query corpora in this p...</td>\n",
       "      <td>[Computational Linguistics]</td>\n",
       "    </tr>\n",
       "    <tr>\n",
       "      <th>8</th>\n",
       "      <td>Community Journalism: Digital and Social Media</td>\n",
       "      <td>Community journalism is a growing area of inte...</td>\n",
       "      <td>[Journalism,  Digital Media,  Social Media]</td>\n",
       "    </tr>\n",
       "    <tr>\n",
       "      <th>9</th>\n",
       "      <td>Caring for Vulnerable Children</td>\n",
       "      <td>In times of shrinking public services, the tas...</td>\n",
       "      <td>[]</td>\n",
       "    </tr>\n",
       "  </tbody>\n",
       "</table>\n",
       "</div>"
      ],
      "text/plain": [
       "                                               title  \\\n",
       "0                      Good Brain, Bad Brain: Basics   \n",
       "1              Forensic Science and Criminal Justice   \n",
       "2                                Exploring Our Ocean   \n",
       "3       Physical Theatre: Meyerhold and Biomechanics   \n",
       "4    Begin Programming: Build Your First Mobile Game   \n",
       "5  Improving Your Image: Dental Photography in Pr...   \n",
       "6  Medicines Adherence: Supporting Patients with ...   \n",
       "7  Corpus Linguistics: Method, Analysis, Interpre...   \n",
       "8     Community Journalism: Digital and Social Media   \n",
       "9                     Caring for Vulnerable Children   \n",
       "\n",
       "                                         description  \\\n",
       "0  Understand your own amazing brainWe will look ...   \n",
       "1  Over the past two decades, the criminal justic...   \n",
       "2  Discover how you can play a part in the safe k...   \n",
       "3  Discover Meyerhold’s technique of theatrical b...   \n",
       "4  Take your first steps into the world of comput...   \n",
       "5  This free course will cover all aspects of the...   \n",
       "6  It is estimated that 30-50% of patients do not...   \n",
       "7  Learn how to build and query corpora in this p...   \n",
       "8  Community journalism is a growing area of inte...   \n",
       "9  In times of shrinking public services, the tas...   \n",
       "\n",
       "                                         skill  \n",
       "0                                           []  \n",
       "1                                           []  \n",
       "2                                           []  \n",
       "3                                           []  \n",
       "4                  [Java,  Mobile Development]  \n",
       "5                          [Dental Technology]  \n",
       "6                                           []  \n",
       "7                  [Computational Linguistics]  \n",
       "8  [Journalism,  Digital Media,  Social Media]  \n",
       "9                                           []  "
      ]
     },
     "execution_count": 38,
     "metadata": {},
     "output_type": "execute_result"
    }
   ],
   "source": [
    "fl.head(10)"
   ]
  },
  {
   "cell_type": "code",
   "execution_count": 39,
   "metadata": {},
   "outputs": [],
   "source": [
    "# because there are values that is empty string (not list)\n",
    "fl['skill'] = fl['skill'].map(lambda x: x[0] if isinstance(x, list) else None)"
   ]
  },
  {
   "cell_type": "code",
   "execution_count": 40,
   "metadata": {},
   "outputs": [],
   "source": [
    "fl['skill'] = fl['skill'].apply(empty_to_null)"
   ]
  },
  {
   "cell_type": "code",
   "execution_count": 41,
   "metadata": {
    "scrolled": true
   },
   "outputs": [],
   "source": [
    "fl_labeled = fl[fl['skill'].notna()]"
   ]
  },
  {
   "cell_type": "code",
   "execution_count": 42,
   "metadata": {},
   "outputs": [
    {
     "data": {
      "text/plain": [
       "(123, 3)"
      ]
     },
     "execution_count": 42,
     "metadata": {},
     "output_type": "execute_result"
    }
   ],
   "source": [
    "fl_labeled.shape"
   ]
  },
  {
   "cell_type": "markdown",
   "metadata": {},
   "source": [
    "# skillsoft-courses"
   ]
  },
  {
   "cell_type": "code",
   "execution_count": 43,
   "metadata": {},
   "outputs": [],
   "source": [
    "ss_json = load_json('skillsoft-courses')"
   ]
  },
  {
   "cell_type": "code",
   "execution_count": 44,
   "metadata": {},
   "outputs": [
    {
     "data": {
      "text/plain": [
       "{'_id': {'$oid': '5ca04e69edc27eb97ce53f85'},\n",
       " 'asset_id': 'oper_36_a01_bs_enus',\n",
       " 'collection': 'BUSINESS STRATEGY and OPERATIONS',\n",
       " 'curriculum': 'Operations Curriculum',\n",
       " 'series': 'Six Sigma Black Belt (2015 BOK): Organization-wide Planning and Deployment',\n",
       " 'link': 'https://www.skillsoft.com/courses/5411926-fundamentals-of-lean-and-six-sigma-and-their-applications/',\n",
       " 'description': 'Six Sigma is a data-driven improvement strategy that views all activities within an organization as processes. Process inputs can be controlled and adjusted to effect significant improvements in process outputs. Six Sigma uses a rigorous and systematic methodology known as DMAIC (define, measure, analyze, improve, and control) and a number of qualitative and quantitative tools. Its goal is to drive process, product, and service improvements for reducing variation and defects. Lean is also an improvement methodology, but with a different focus. It aims to enhance process flow, reduce cycle time, and eliminate waste.   Though Lean and Six Sigma originated in different places and under different circumstances, they are now largely seen as complementary methodologies. Organizations across various industries are striving to become faster and more responsive to customers, achieve near-perfect quality, and operate using world-class cost structures. You need both Lean and Six Sigma to achieve these goals. This course introduces Six Sigma and Lean methodologies and looks at the relationship between them. It also explores relationships among business systems and processes using some practical examples of Lean Six Sigma applications in both manufacturing and service industries. This course is aligned with the ASQ Certified Six Sigma Black Belt certification exam and is designed to assist learners as part of their exam preparation. It builds on foundational knowledge that is taught in SkillSoft’s ASQ-aligned Green Belt curriculum.',\n",
       " 'hour': 1.98,\n",
       " 'credit': 2.5,\n",
       " 'skills': ['Six Sigma', 'Six Sigma Black Belt'],\n",
       " 'description_short': '',\n",
       " 'effort_max': 1.98,\n",
       " 'effort_min': 1.98,\n",
       " 'entitlements': [{'price': 0, 'currency': 'USD', 'credit': 2.5}],\n",
       " 'instructor': [],\n",
       " 'title': 'Fundamentals of Lean and Six Sigma and their Applications',\n",
       " 'weeks_to_complete': 1}"
      ]
     },
     "execution_count": 44,
     "metadata": {},
     "output_type": "execute_result"
    }
   ],
   "source": [
    "ss_json[0]"
   ]
  },
  {
   "cell_type": "code",
   "execution_count": 45,
   "metadata": {},
   "outputs": [],
   "source": [
    "ss = pd.DataFrame({'title': [course['title'] for course in ss_json], \n",
    "              'description': [course['description'] for course in ss_json],\n",
    "              'skill': [course['skills'] for course in ss_json]})"
   ]
  },
  {
   "cell_type": "code",
   "execution_count": 46,
   "metadata": {},
   "outputs": [
    {
     "data": {
      "text/plain": [
       "(464, 3)"
      ]
     },
     "execution_count": 46,
     "metadata": {},
     "output_type": "execute_result"
    }
   ],
   "source": [
    "ss.shape"
   ]
  },
  {
   "cell_type": "code",
   "execution_count": 47,
   "metadata": {},
   "outputs": [
    {
     "data": {
      "text/plain": [
       "0"
      ]
     },
     "execution_count": 47,
     "metadata": {},
     "output_type": "execute_result"
    }
   ],
   "source": [
    "ss['skill'].isnull().sum()"
   ]
  },
  {
   "cell_type": "code",
   "execution_count": 48,
   "metadata": {
    "scrolled": true
   },
   "outputs": [
    {
     "data": {
      "text/html": [
       "<div>\n",
       "<style scoped>\n",
       "    .dataframe tbody tr th:only-of-type {\n",
       "        vertical-align: middle;\n",
       "    }\n",
       "\n",
       "    .dataframe tbody tr th {\n",
       "        vertical-align: top;\n",
       "    }\n",
       "\n",
       "    .dataframe thead th {\n",
       "        text-align: right;\n",
       "    }\n",
       "</style>\n",
       "<table border=\"1\" class=\"dataframe\">\n",
       "  <thead>\n",
       "    <tr style=\"text-align: right;\">\n",
       "      <th></th>\n",
       "      <th>title</th>\n",
       "      <th>description</th>\n",
       "      <th>skill</th>\n",
       "    </tr>\n",
       "  </thead>\n",
       "  <tbody>\n",
       "    <tr>\n",
       "      <th>0</th>\n",
       "      <td>Fundamentals of Lean and Six Sigma and their A...</td>\n",
       "      <td>Six Sigma is a data-driven improvement strateg...</td>\n",
       "      <td>[Six Sigma, Six Sigma Black Belt]</td>\n",
       "    </tr>\n",
       "    <tr>\n",
       "      <th>1</th>\n",
       "      <td>Six Sigma Project Selection, Roles, and Respon...</td>\n",
       "      <td>Deployment of Six Sigma, Lean, or another cont...</td>\n",
       "      <td>[Six Sigma, Six Sigma Black Belt]</td>\n",
       "    </tr>\n",
       "    <tr>\n",
       "      <th>2</th>\n",
       "      <td>Six Sigma Strategic Planning and Deployment</td>\n",
       "      <td>Strategic planning of Six Sigma projects and L...</td>\n",
       "      <td>[Six Sigma, Six Sigma Black Belt]</td>\n",
       "    </tr>\n",
       "    <tr>\n",
       "      <th>3</th>\n",
       "      <td>Impact on Stakeholders and Benchmarking for Si...</td>\n",
       "      <td>The success of Six Sigma deployment in an orga...</td>\n",
       "      <td>[Six Sigma, Six Sigma Black Belt]</td>\n",
       "    </tr>\n",
       "    <tr>\n",
       "      <th>4</th>\n",
       "      <td>Using Business and Financial Measures in Six S...</td>\n",
       "      <td>Six Sigma improvement begins with assessing th...</td>\n",
       "      <td>[Six Sigma, Six Sigma Black Belt]</td>\n",
       "    </tr>\n",
       "    <tr>\n",
       "      <th>5</th>\n",
       "      <td>Six Sigma Team Dynamics, Roles, and Success Fa...</td>\n",
       "      <td>Forming an effective Six Sigma team for drivin...</td>\n",
       "      <td>[Six Sigma, Six Sigma Black Belt]</td>\n",
       "    </tr>\n",
       "    <tr>\n",
       "      <th>6</th>\n",
       "      <td>Six Sigma Team Facilitation and Leadership</td>\n",
       "      <td>Six Sigma Black Belts must possess specific qu...</td>\n",
       "      <td>[Six Sigma, Six Sigma Black Belt]</td>\n",
       "    </tr>\n",
       "    <tr>\n",
       "      <th>7</th>\n",
       "      <td>Six Sigma Team Dynamics and Training</td>\n",
       "      <td>Black Belts have the challenging task of manag...</td>\n",
       "      <td>[Six Sigma, Six Sigma Black Belt]</td>\n",
       "    </tr>\n",
       "    <tr>\n",
       "      <th>8</th>\n",
       "      <td>Determining Requirements by Listening to the V...</td>\n",
       "      <td>Customers are at the heart of all Six Sigma in...</td>\n",
       "      <td>[Six Sigma, Six Sigma Black Belt]</td>\n",
       "    </tr>\n",
       "    <tr>\n",
       "      <th>9</th>\n",
       "      <td>Six Sigma Business Case, Project Charter, and ...</td>\n",
       "      <td>A project charter is the most important docume...</td>\n",
       "      <td>[Six Sigma, Six Sigma Black Belt]</td>\n",
       "    </tr>\n",
       "  </tbody>\n",
       "</table>\n",
       "</div>"
      ],
      "text/plain": [
       "                                               title  \\\n",
       "0  Fundamentals of Lean and Six Sigma and their A...   \n",
       "1  Six Sigma Project Selection, Roles, and Respon...   \n",
       "2        Six Sigma Strategic Planning and Deployment   \n",
       "3  Impact on Stakeholders and Benchmarking for Si...   \n",
       "4  Using Business and Financial Measures in Six S...   \n",
       "5  Six Sigma Team Dynamics, Roles, and Success Fa...   \n",
       "6         Six Sigma Team Facilitation and Leadership   \n",
       "7               Six Sigma Team Dynamics and Training   \n",
       "8  Determining Requirements by Listening to the V...   \n",
       "9  Six Sigma Business Case, Project Charter, and ...   \n",
       "\n",
       "                                         description  \\\n",
       "0  Six Sigma is a data-driven improvement strateg...   \n",
       "1  Deployment of Six Sigma, Lean, or another cont...   \n",
       "2  Strategic planning of Six Sigma projects and L...   \n",
       "3  The success of Six Sigma deployment in an orga...   \n",
       "4  Six Sigma improvement begins with assessing th...   \n",
       "5  Forming an effective Six Sigma team for drivin...   \n",
       "6  Six Sigma Black Belts must possess specific qu...   \n",
       "7  Black Belts have the challenging task of manag...   \n",
       "8  Customers are at the heart of all Six Sigma in...   \n",
       "9  A project charter is the most important docume...   \n",
       "\n",
       "                               skill  \n",
       "0  [Six Sigma, Six Sigma Black Belt]  \n",
       "1  [Six Sigma, Six Sigma Black Belt]  \n",
       "2  [Six Sigma, Six Sigma Black Belt]  \n",
       "3  [Six Sigma, Six Sigma Black Belt]  \n",
       "4  [Six Sigma, Six Sigma Black Belt]  \n",
       "5  [Six Sigma, Six Sigma Black Belt]  \n",
       "6  [Six Sigma, Six Sigma Black Belt]  \n",
       "7  [Six Sigma, Six Sigma Black Belt]  \n",
       "8  [Six Sigma, Six Sigma Black Belt]  \n",
       "9  [Six Sigma, Six Sigma Black Belt]  "
      ]
     },
     "execution_count": 48,
     "metadata": {},
     "output_type": "execute_result"
    }
   ],
   "source": [
    "ss.head(10)"
   ]
  },
  {
   "cell_type": "code",
   "execution_count": 49,
   "metadata": {},
   "outputs": [],
   "source": [
    "ss['skill'] = ss['skill'].map(lambda x: x[0])"
   ]
  },
  {
   "cell_type": "code",
   "execution_count": 50,
   "metadata": {
    "scrolled": true
   },
   "outputs": [
    {
     "data": {
      "text/html": [
       "<div>\n",
       "<style scoped>\n",
       "    .dataframe tbody tr th:only-of-type {\n",
       "        vertical-align: middle;\n",
       "    }\n",
       "\n",
       "    .dataframe tbody tr th {\n",
       "        vertical-align: top;\n",
       "    }\n",
       "\n",
       "    .dataframe thead th {\n",
       "        text-align: right;\n",
       "    }\n",
       "</style>\n",
       "<table border=\"1\" class=\"dataframe\">\n",
       "  <thead>\n",
       "    <tr style=\"text-align: right;\">\n",
       "      <th></th>\n",
       "      <th>title</th>\n",
       "      <th>description</th>\n",
       "      <th>skill</th>\n",
       "    </tr>\n",
       "  </thead>\n",
       "  <tbody>\n",
       "    <tr>\n",
       "      <th>0</th>\n",
       "      <td>Fundamentals of Lean and Six Sigma and their A...</td>\n",
       "      <td>Six Sigma is a data-driven improvement strateg...</td>\n",
       "      <td>Six Sigma</td>\n",
       "    </tr>\n",
       "    <tr>\n",
       "      <th>1</th>\n",
       "      <td>Six Sigma Project Selection, Roles, and Respon...</td>\n",
       "      <td>Deployment of Six Sigma, Lean, or another cont...</td>\n",
       "      <td>Six Sigma</td>\n",
       "    </tr>\n",
       "    <tr>\n",
       "      <th>2</th>\n",
       "      <td>Six Sigma Strategic Planning and Deployment</td>\n",
       "      <td>Strategic planning of Six Sigma projects and L...</td>\n",
       "      <td>Six Sigma</td>\n",
       "    </tr>\n",
       "    <tr>\n",
       "      <th>3</th>\n",
       "      <td>Impact on Stakeholders and Benchmarking for Si...</td>\n",
       "      <td>The success of Six Sigma deployment in an orga...</td>\n",
       "      <td>Six Sigma</td>\n",
       "    </tr>\n",
       "    <tr>\n",
       "      <th>4</th>\n",
       "      <td>Using Business and Financial Measures in Six S...</td>\n",
       "      <td>Six Sigma improvement begins with assessing th...</td>\n",
       "      <td>Six Sigma</td>\n",
       "    </tr>\n",
       "    <tr>\n",
       "      <th>5</th>\n",
       "      <td>Six Sigma Team Dynamics, Roles, and Success Fa...</td>\n",
       "      <td>Forming an effective Six Sigma team for drivin...</td>\n",
       "      <td>Six Sigma</td>\n",
       "    </tr>\n",
       "    <tr>\n",
       "      <th>6</th>\n",
       "      <td>Six Sigma Team Facilitation and Leadership</td>\n",
       "      <td>Six Sigma Black Belts must possess specific qu...</td>\n",
       "      <td>Six Sigma</td>\n",
       "    </tr>\n",
       "    <tr>\n",
       "      <th>7</th>\n",
       "      <td>Six Sigma Team Dynamics and Training</td>\n",
       "      <td>Black Belts have the challenging task of manag...</td>\n",
       "      <td>Six Sigma</td>\n",
       "    </tr>\n",
       "    <tr>\n",
       "      <th>8</th>\n",
       "      <td>Determining Requirements by Listening to the V...</td>\n",
       "      <td>Customers are at the heart of all Six Sigma in...</td>\n",
       "      <td>Six Sigma</td>\n",
       "    </tr>\n",
       "    <tr>\n",
       "      <th>9</th>\n",
       "      <td>Six Sigma Business Case, Project Charter, and ...</td>\n",
       "      <td>A project charter is the most important docume...</td>\n",
       "      <td>Six Sigma</td>\n",
       "    </tr>\n",
       "  </tbody>\n",
       "</table>\n",
       "</div>"
      ],
      "text/plain": [
       "                                               title  \\\n",
       "0  Fundamentals of Lean and Six Sigma and their A...   \n",
       "1  Six Sigma Project Selection, Roles, and Respon...   \n",
       "2        Six Sigma Strategic Planning and Deployment   \n",
       "3  Impact on Stakeholders and Benchmarking for Si...   \n",
       "4  Using Business and Financial Measures in Six S...   \n",
       "5  Six Sigma Team Dynamics, Roles, and Success Fa...   \n",
       "6         Six Sigma Team Facilitation and Leadership   \n",
       "7               Six Sigma Team Dynamics and Training   \n",
       "8  Determining Requirements by Listening to the V...   \n",
       "9  Six Sigma Business Case, Project Charter, and ...   \n",
       "\n",
       "                                         description      skill  \n",
       "0  Six Sigma is a data-driven improvement strateg...  Six Sigma  \n",
       "1  Deployment of Six Sigma, Lean, or another cont...  Six Sigma  \n",
       "2  Strategic planning of Six Sigma projects and L...  Six Sigma  \n",
       "3  The success of Six Sigma deployment in an orga...  Six Sigma  \n",
       "4  Six Sigma improvement begins with assessing th...  Six Sigma  \n",
       "5  Forming an effective Six Sigma team for drivin...  Six Sigma  \n",
       "6  Six Sigma Black Belts must possess specific qu...  Six Sigma  \n",
       "7  Black Belts have the challenging task of manag...  Six Sigma  \n",
       "8  Customers are at the heart of all Six Sigma in...  Six Sigma  \n",
       "9  A project charter is the most important docume...  Six Sigma  "
      ]
     },
     "execution_count": 50,
     "metadata": {},
     "output_type": "execute_result"
    }
   ],
   "source": [
    "ss.head(10)"
   ]
  },
  {
   "cell_type": "code",
   "execution_count": 51,
   "metadata": {},
   "outputs": [],
   "source": [
    "ss['skill'] = ss['skill'].apply(empty_to_null)"
   ]
  },
  {
   "cell_type": "code",
   "execution_count": 52,
   "metadata": {},
   "outputs": [
    {
     "data": {
      "text/plain": [
       "168"
      ]
     },
     "execution_count": 52,
     "metadata": {},
     "output_type": "execute_result"
    }
   ],
   "source": [
    "ss['skill'].isnull().sum()"
   ]
  },
  {
   "cell_type": "code",
   "execution_count": 53,
   "metadata": {},
   "outputs": [],
   "source": [
    "ss_labeled = ss[ss['skill'].notna()]"
   ]
  },
  {
   "cell_type": "code",
   "execution_count": 54,
   "metadata": {},
   "outputs": [
    {
     "data": {
      "text/plain": [
       "(296, 3)"
      ]
     },
     "execution_count": 54,
     "metadata": {},
     "output_type": "execute_result"
    }
   ],
   "source": [
    "ss_labeled.shape"
   ]
  },
  {
   "cell_type": "markdown",
   "metadata": {},
   "source": [
    "# combine all courses"
   ]
  },
  {
   "cell_type": "code",
   "execution_count": 55,
   "metadata": {},
   "outputs": [],
   "source": [
    "courses_labeled = pd.concat([cg_labeled, ec_labeled, fl_labeled, ss_labeled], \n",
    "                   keys=['cg','ec','fl','ss'])"
   ]
  },
  {
   "cell_type": "code",
   "execution_count": 56,
   "metadata": {},
   "outputs": [
    {
     "data": {
      "text/plain": [
       "(853, 3)"
      ]
     },
     "execution_count": 56,
     "metadata": {},
     "output_type": "execute_result"
    }
   ],
   "source": [
    "courses_labeled.shape"
   ]
  },
  {
   "cell_type": "code",
   "execution_count": 57,
   "metadata": {
    "scrolled": true
   },
   "outputs": [
    {
     "data": {
      "text/html": [
       "<div>\n",
       "<style scoped>\n",
       "    .dataframe tbody tr th:only-of-type {\n",
       "        vertical-align: middle;\n",
       "    }\n",
       "\n",
       "    .dataframe tbody tr th {\n",
       "        vertical-align: top;\n",
       "    }\n",
       "\n",
       "    .dataframe thead th {\n",
       "        text-align: right;\n",
       "    }\n",
       "</style>\n",
       "<table border=\"1\" class=\"dataframe\">\n",
       "  <thead>\n",
       "    <tr style=\"text-align: right;\">\n",
       "      <th></th>\n",
       "      <th></th>\n",
       "      <th>title</th>\n",
       "      <th>description</th>\n",
       "      <th>skill</th>\n",
       "    </tr>\n",
       "  </thead>\n",
       "  <tbody>\n",
       "    <tr>\n",
       "      <th rowspan=\"30\" valign=\"top\">cg</th>\n",
       "      <th>5</th>\n",
       "      <td>Energy Industry Fundamentals Certificate</td>\n",
       "      <td>The Energy Industry Fundamentals course, for w...</td>\n",
       "      <td>Energy Industry</td>\n",
       "    </tr>\n",
       "    <tr>\n",
       "      <th>6</th>\n",
       "      <td>Insurance Studies Certificate</td>\n",
       "      <td>The Certificate of Completion (CCL) in Insuran...</td>\n",
       "      <td>Insurance Industry Knowledge</td>\n",
       "    </tr>\n",
       "    <tr>\n",
       "      <th>10</th>\n",
       "      <td>BOC Level I Training Certificate of Completion</td>\n",
       "      <td>Level I classes support the BOC operator skill...</td>\n",
       "      <td>HVAC</td>\n",
       "    </tr>\n",
       "    <tr>\n",
       "      <th>11</th>\n",
       "      <td>Official (ISC)² CISSP Training</td>\n",
       "      <td>Our training helps you fully prepare for this ...</td>\n",
       "      <td>Cybersecurity Strategy</td>\n",
       "    </tr>\n",
       "    <tr>\n",
       "      <th>12</th>\n",
       "      <td>NSF Certificate in Food Safety Programs</td>\n",
       "      <td>NSF International, NSF Training &amp; Education Se...</td>\n",
       "      <td>Food Safety</td>\n",
       "    </tr>\n",
       "    <tr>\n",
       "      <th>13</th>\n",
       "      <td>Certified Food Safety Manager Training</td>\n",
       "      <td>Certified Managers have a responsibility to sh...</td>\n",
       "      <td>Food Safety</td>\n",
       "    </tr>\n",
       "    <tr>\n",
       "      <th>42</th>\n",
       "      <td>Professional Development Certificate in SQL Se...</td>\n",
       "      <td>An 11-week in-depth program designed to provid...</td>\n",
       "      <td>Microsoft SQL</td>\n",
       "    </tr>\n",
       "    <tr>\n",
       "      <th>44</th>\n",
       "      <td>.Net Web Developer Program</td>\n",
       "      <td>A 10-week comprehensive program covering web d...</td>\n",
       "      <td>.NET</td>\n",
       "    </tr>\n",
       "    <tr>\n",
       "      <th>47</th>\n",
       "      <td>Graduate Certificate in Cybersecurity - Critic...</td>\n",
       "      <td>The Cybersecurity area of study blends both in...</td>\n",
       "      <td>Infrastructure Security Fundamentals</td>\n",
       "    </tr>\n",
       "    <tr>\n",
       "      <th>49</th>\n",
       "      <td>Welding &amp; Fabrication Industry Certification P...</td>\n",
       "      <td>The Monroe Community College Career Welding &amp; ...</td>\n",
       "      <td>MIG (PULSE) Welding</td>\n",
       "    </tr>\n",
       "    <tr>\n",
       "      <th>50</th>\n",
       "      <td>Welding &amp; Fabrication Industry Certification P...</td>\n",
       "      <td>The Monroe Community College Career Welding &amp; ...</td>\n",
       "      <td>MIG (PULSE) Welding</td>\n",
       "    </tr>\n",
       "    <tr>\n",
       "      <th>51</th>\n",
       "      <td>Welding &amp; Fabrication Industry Certification P...</td>\n",
       "      <td>This fast-paced course is designed to provide ...</td>\n",
       "      <td>Pipe Welding</td>\n",
       "    </tr>\n",
       "    <tr>\n",
       "      <th>52</th>\n",
       "      <td>Bachelor's Degree in Cybersecurity Curriculum</td>\n",
       "      <td>The BS-Cybersecurity program is an inclusive e...</td>\n",
       "      <td>Cybersecurity Strategy</td>\n",
       "    </tr>\n",
       "    <tr>\n",
       "      <th>53</th>\n",
       "      <td>Enhanced Operator Certificate 16 - Week Traini...</td>\n",
       "      <td>The Enhanced Operator Certificate is a short-t...</td>\n",
       "      <td>Six Sigma</td>\n",
       "    </tr>\n",
       "    <tr>\n",
       "      <th>54</th>\n",
       "      <td>Enhanced Operator Certificate 16 - Week Traini...</td>\n",
       "      <td>The Enhanced Operator Certificate is a short-t...</td>\n",
       "      <td>Six Sigma</td>\n",
       "    </tr>\n",
       "    <tr>\n",
       "      <th>58</th>\n",
       "      <td>Certified Production Technician Courses</td>\n",
       "      <td>MSSC delivers its CPT Courses through well-est...</td>\n",
       "      <td>Manufacturing Industry Knowledge</td>\n",
       "    </tr>\n",
       "    <tr>\n",
       "      <th>59</th>\n",
       "      <td>Certified Logistics Technician Courses</td>\n",
       "      <td>To enhance the competency of the supply chain ...</td>\n",
       "      <td>Logistics</td>\n",
       "    </tr>\n",
       "    <tr>\n",
       "      <th>61</th>\n",
       "      <td>Certificate in Cyber Security Fundamentals Cou...</td>\n",
       "      <td>Explain the landscape, key terms and concepts ...</td>\n",
       "      <td>Cybersecurity Strategy</td>\n",
       "    </tr>\n",
       "    <tr>\n",
       "      <th>62</th>\n",
       "      <td>Bachelor of Science in Cyber Security</td>\n",
       "      <td>The cyber security major prepares individuals ...</td>\n",
       "      <td>Cybersecurity Strategy</td>\n",
       "    </tr>\n",
       "    <tr>\n",
       "      <th>63</th>\n",
       "      <td>Certificate for Apartment Maintenance Technici...</td>\n",
       "      <td>The non-technical Soft Skills course consists ...</td>\n",
       "      <td>Apartment Maintenance</td>\n",
       "    </tr>\n",
       "    <tr>\n",
       "      <th>67</th>\n",
       "      <td>Connecting Learning Theories to Your Teaching ...</td>\n",
       "      <td>Participants in this two-week workshop will le...</td>\n",
       "      <td>Teaching</td>\n",
       "    </tr>\n",
       "    <tr>\n",
       "      <th>71</th>\n",
       "      <td>Graphic Design Certificate Program</td>\n",
       "      <td>The SMU Graphic Design Certificate program is ...</td>\n",
       "      <td>Graphic Design</td>\n",
       "    </tr>\n",
       "    <tr>\n",
       "      <th>72</th>\n",
       "      <td>Web Design Certificate Program</td>\n",
       "      <td>During the certificate program, you will be wo...</td>\n",
       "      <td>HTML5</td>\n",
       "    </tr>\n",
       "    <tr>\n",
       "      <th>79</th>\n",
       "      <td>Stem Cell Technologies Certificate</td>\n",
       "      <td>The Stem Cell Technologies Certificate is a tw...</td>\n",
       "      <td>Stem Cell Biology</td>\n",
       "    </tr>\n",
       "    <tr>\n",
       "      <th>83</th>\n",
       "      <td>Bachelor of Science in Business Administration...</td>\n",
       "      <td>A Bachelor of Science in Business Administrati...</td>\n",
       "      <td>Project Management</td>\n",
       "    </tr>\n",
       "    <tr>\n",
       "      <th>84</th>\n",
       "      <td>Bachelor of Science in Business Administration...</td>\n",
       "      <td>A Bachelor of Science in Business Administrati...</td>\n",
       "      <td>Human Resource Management</td>\n",
       "    </tr>\n",
       "    <tr>\n",
       "      <th>85</th>\n",
       "      <td>Bachelor of Science in Business Administration...</td>\n",
       "      <td>A Bachelor of Science in Business Administrati...</td>\n",
       "      <td>Business Analysis</td>\n",
       "    </tr>\n",
       "    <tr>\n",
       "      <th>93</th>\n",
       "      <td>Bachelor of Arts with a Major in English - Lit...</td>\n",
       "      <td>A Bachelor of Arts with a Major in English wit...</td>\n",
       "      <td>English</td>\n",
       "    </tr>\n",
       "    <tr>\n",
       "      <th>94</th>\n",
       "      <td>Bachelor of Arts with a Major in English - Cre...</td>\n",
       "      <td>A Bachelor of Arts with a Major in English wit...</td>\n",
       "      <td>English</td>\n",
       "    </tr>\n",
       "    <tr>\n",
       "      <th>95</th>\n",
       "      <td>Bachelor of Science with a Major in Accounting...</td>\n",
       "      <td>A Bachelor of Science with a Major in Accounti...</td>\n",
       "      <td>Accounting</td>\n",
       "    </tr>\n",
       "  </tbody>\n",
       "</table>\n",
       "</div>"
      ],
      "text/plain": [
       "                                                   title  \\\n",
       "cg 5            Energy Industry Fundamentals Certificate   \n",
       "   6                       Insurance Studies Certificate   \n",
       "   10     BOC Level I Training Certificate of Completion   \n",
       "   11                     Official (ISC)² CISSP Training   \n",
       "   12            NSF Certificate in Food Safety Programs   \n",
       "   13             Certified Food Safety Manager Training   \n",
       "   42  Professional Development Certificate in SQL Se...   \n",
       "   44                         .Net Web Developer Program   \n",
       "   47  Graduate Certificate in Cybersecurity - Critic...   \n",
       "   49  Welding & Fabrication Industry Certification P...   \n",
       "   50  Welding & Fabrication Industry Certification P...   \n",
       "   51  Welding & Fabrication Industry Certification P...   \n",
       "   52      Bachelor's Degree in Cybersecurity Curriculum   \n",
       "   53  Enhanced Operator Certificate 16 - Week Traini...   \n",
       "   54  Enhanced Operator Certificate 16 - Week Traini...   \n",
       "   58            Certified Production Technician Courses   \n",
       "   59             Certified Logistics Technician Courses   \n",
       "   61  Certificate in Cyber Security Fundamentals Cou...   \n",
       "   62              Bachelor of Science in Cyber Security   \n",
       "   63  Certificate for Apartment Maintenance Technici...   \n",
       "   67  Connecting Learning Theories to Your Teaching ...   \n",
       "   71                 Graphic Design Certificate Program   \n",
       "   72                     Web Design Certificate Program   \n",
       "   79                 Stem Cell Technologies Certificate   \n",
       "   83  Bachelor of Science in Business Administration...   \n",
       "   84  Bachelor of Science in Business Administration...   \n",
       "   85  Bachelor of Science in Business Administration...   \n",
       "   93  Bachelor of Arts with a Major in English - Lit...   \n",
       "   94  Bachelor of Arts with a Major in English - Cre...   \n",
       "   95  Bachelor of Science with a Major in Accounting...   \n",
       "\n",
       "                                             description  \\\n",
       "cg 5   The Energy Industry Fundamentals course, for w...   \n",
       "   6   The Certificate of Completion (CCL) in Insuran...   \n",
       "   10  Level I classes support the BOC operator skill...   \n",
       "   11  Our training helps you fully prepare for this ...   \n",
       "   12  NSF International, NSF Training & Education Se...   \n",
       "   13  Certified Managers have a responsibility to sh...   \n",
       "   42  An 11-week in-depth program designed to provid...   \n",
       "   44  A 10-week comprehensive program covering web d...   \n",
       "   47  The Cybersecurity area of study blends both in...   \n",
       "   49  The Monroe Community College Career Welding & ...   \n",
       "   50  The Monroe Community College Career Welding & ...   \n",
       "   51  This fast-paced course is designed to provide ...   \n",
       "   52  The BS-Cybersecurity program is an inclusive e...   \n",
       "   53  The Enhanced Operator Certificate is a short-t...   \n",
       "   54  The Enhanced Operator Certificate is a short-t...   \n",
       "   58  MSSC delivers its CPT Courses through well-est...   \n",
       "   59  To enhance the competency of the supply chain ...   \n",
       "   61  Explain the landscape, key terms and concepts ...   \n",
       "   62  The cyber security major prepares individuals ...   \n",
       "   63  The non-technical Soft Skills course consists ...   \n",
       "   67  Participants in this two-week workshop will le...   \n",
       "   71  The SMU Graphic Design Certificate program is ...   \n",
       "   72  During the certificate program, you will be wo...   \n",
       "   79  The Stem Cell Technologies Certificate is a tw...   \n",
       "   83  A Bachelor of Science in Business Administrati...   \n",
       "   84  A Bachelor of Science in Business Administrati...   \n",
       "   85  A Bachelor of Science in Business Administrati...   \n",
       "   93  A Bachelor of Arts with a Major in English wit...   \n",
       "   94  A Bachelor of Arts with a Major in English wit...   \n",
       "   95  A Bachelor of Science with a Major in Accounti...   \n",
       "\n",
       "                                      skill  \n",
       "cg 5                        Energy Industry  \n",
       "   6           Insurance Industry Knowledge  \n",
       "   10                                  HVAC  \n",
       "   11                Cybersecurity Strategy  \n",
       "   12                           Food Safety  \n",
       "   13                           Food Safety  \n",
       "   42                         Microsoft SQL  \n",
       "   44                                  .NET  \n",
       "   47  Infrastructure Security Fundamentals  \n",
       "   49                   MIG (PULSE) Welding  \n",
       "   50                   MIG (PULSE) Welding  \n",
       "   51                          Pipe Welding  \n",
       "   52                Cybersecurity Strategy  \n",
       "   53                             Six Sigma  \n",
       "   54                             Six Sigma  \n",
       "   58      Manufacturing Industry Knowledge  \n",
       "   59                             Logistics  \n",
       "   61                Cybersecurity Strategy  \n",
       "   62                Cybersecurity Strategy  \n",
       "   63                 Apartment Maintenance  \n",
       "   67                              Teaching  \n",
       "   71                        Graphic Design  \n",
       "   72                                 HTML5  \n",
       "   79                     Stem Cell Biology  \n",
       "   83                    Project Management  \n",
       "   84             Human Resource Management  \n",
       "   85                     Business Analysis  \n",
       "   93                               English  \n",
       "   94                               English  \n",
       "   95                            Accounting  "
      ]
     },
     "execution_count": 57,
     "metadata": {},
     "output_type": "execute_result"
    }
   ],
   "source": [
    "courses_labeled.head(30)"
   ]
  },
  {
   "cell_type": "code",
   "execution_count": 58,
   "metadata": {},
   "outputs": [],
   "source": [
    "#courses_labeled.to_csv('courses_labeled.csv')"
   ]
  },
  {
   "cell_type": "code",
   "execution_count": 59,
   "metadata": {},
   "outputs": [],
   "source": [
    "courses = pd.concat([cg, ec, fl, ss], \n",
    "                   keys=['cg','ec','fl','ss'])"
   ]
  },
  {
   "cell_type": "code",
   "execution_count": 60,
   "metadata": {
    "scrolled": true
   },
   "outputs": [
    {
     "data": {
      "text/html": [
       "<div>\n",
       "<style scoped>\n",
       "    .dataframe tbody tr th:only-of-type {\n",
       "        vertical-align: middle;\n",
       "    }\n",
       "\n",
       "    .dataframe tbody tr th {\n",
       "        vertical-align: top;\n",
       "    }\n",
       "\n",
       "    .dataframe thead th {\n",
       "        text-align: right;\n",
       "    }\n",
       "</style>\n",
       "<table border=\"1\" class=\"dataframe\">\n",
       "  <thead>\n",
       "    <tr style=\"text-align: right;\">\n",
       "      <th></th>\n",
       "      <th></th>\n",
       "      <th>title</th>\n",
       "      <th>description</th>\n",
       "      <th>skill</th>\n",
       "    </tr>\n",
       "  </thead>\n",
       "  <tbody>\n",
       "    <tr>\n",
       "      <th rowspan=\"30\" valign=\"top\">cg</th>\n",
       "      <th>0</th>\n",
       "      <td>Certified Safety Professional (CSP)</td>\n",
       "      <td>The purpose of the recertification program is ...</td>\n",
       "      <td>NaN</td>\n",
       "    </tr>\n",
       "    <tr>\n",
       "      <th>1</th>\n",
       "      <td>HOSP 215, Front Office</td>\n",
       "      <td>This course presents a systematic approach to ...</td>\n",
       "      <td>NaN</td>\n",
       "    </tr>\n",
       "    <tr>\n",
       "      <th>2</th>\n",
       "      <td>Computer Science Program at Texas Luthern Univ...</td>\n",
       "      <td>We believe the analysis of problems, the desig...</td>\n",
       "      <td>NaN</td>\n",
       "    </tr>\n",
       "    <tr>\n",
       "      <th>3</th>\n",
       "      <td>Bachelor of Science in Information Technology ...</td>\n",
       "      <td>Brandman University's Bachelor of Science in I...</td>\n",
       "      <td>NaN</td>\n",
       "    </tr>\n",
       "    <tr>\n",
       "      <th>4</th>\n",
       "      <td>Pharmacy Technician Certification Board Certif...</td>\n",
       "      <td>Certificants must complete a minimum of twenty...</td>\n",
       "      <td>NaN</td>\n",
       "    </tr>\n",
       "    <tr>\n",
       "      <th>5</th>\n",
       "      <td>Energy Industry Fundamentals Certificate</td>\n",
       "      <td>The Energy Industry Fundamentals course, for w...</td>\n",
       "      <td>Energy Industry</td>\n",
       "    </tr>\n",
       "    <tr>\n",
       "      <th>6</th>\n",
       "      <td>Insurance Studies Certificate</td>\n",
       "      <td>The Certificate of Completion (CCL) in Insuran...</td>\n",
       "      <td>Insurance Industry Knowledge</td>\n",
       "    </tr>\n",
       "    <tr>\n",
       "      <th>7</th>\n",
       "      <td>Bachelor of Science in Information Technology ...</td>\n",
       "      <td>This program consists of the following courses...</td>\n",
       "      <td>NaN</td>\n",
       "    </tr>\n",
       "    <tr>\n",
       "      <th>8</th>\n",
       "      <td>Respiratory Care Associate of Science</td>\n",
       "      <td>Students are admitted to the Respiratory Care ...</td>\n",
       "      <td>NaN</td>\n",
       "    </tr>\n",
       "    <tr>\n",
       "      <th>9</th>\n",
       "      <td>BOC Level II Training Certificate of Completion</td>\n",
       "      <td>To earn a Level II Training Certificate of Com...</td>\n",
       "      <td>NaN</td>\n",
       "    </tr>\n",
       "    <tr>\n",
       "      <th>10</th>\n",
       "      <td>BOC Level I Training Certificate of Completion</td>\n",
       "      <td>Level I classes support the BOC operator skill...</td>\n",
       "      <td>HVAC</td>\n",
       "    </tr>\n",
       "    <tr>\n",
       "      <th>11</th>\n",
       "      <td>Official (ISC)² CISSP Training</td>\n",
       "      <td>Our training helps you fully prepare for this ...</td>\n",
       "      <td>Cybersecurity Strategy</td>\n",
       "    </tr>\n",
       "    <tr>\n",
       "      <th>12</th>\n",
       "      <td>NSF Certificate in Food Safety Programs</td>\n",
       "      <td>NSF International, NSF Training &amp; Education Se...</td>\n",
       "      <td>Food Safety</td>\n",
       "    </tr>\n",
       "    <tr>\n",
       "      <th>13</th>\n",
       "      <td>Certified Food Safety Manager Training</td>\n",
       "      <td>Certified Managers have a responsibility to sh...</td>\n",
       "      <td>Food Safety</td>\n",
       "    </tr>\n",
       "    <tr>\n",
       "      <th>14</th>\n",
       "      <td>Certified Professional in Training Management ...</td>\n",
       "      <td>The CPTM program utilizes a blended approach t...</td>\n",
       "      <td>NaN</td>\n",
       "    </tr>\n",
       "    <tr>\n",
       "      <th>15</th>\n",
       "      <td>Certified Professional in Training Management ...</td>\n",
       "      <td>The Certified Professional in Training Managem...</td>\n",
       "      <td>NaN</td>\n",
       "    </tr>\n",
       "    <tr>\n",
       "      <th>16</th>\n",
       "      <td>Certified Professional in Training Management ...</td>\n",
       "      <td>The Certified Professional in Training Managem...</td>\n",
       "      <td>NaN</td>\n",
       "    </tr>\n",
       "    <tr>\n",
       "      <th>17</th>\n",
       "      <td>Certified Professional in Training Management ...</td>\n",
       "      <td>The Certified Professional in Training Managem...</td>\n",
       "      <td>NaN</td>\n",
       "    </tr>\n",
       "    <tr>\n",
       "      <th>18</th>\n",
       "      <td>Certified Professional in Training Management ...</td>\n",
       "      <td>The Certified Professional in Training Managem...</td>\n",
       "      <td>NaN</td>\n",
       "    </tr>\n",
       "    <tr>\n",
       "      <th>19</th>\n",
       "      <td>Certified Professional in Training Management ...</td>\n",
       "      <td>The Certified Professional in Training Managem...</td>\n",
       "      <td>NaN</td>\n",
       "    </tr>\n",
       "    <tr>\n",
       "      <th>20</th>\n",
       "      <td>Certified Professional in Training Management ...</td>\n",
       "      <td>The Certified Professional in Training Managem...</td>\n",
       "      <td>NaN</td>\n",
       "    </tr>\n",
       "    <tr>\n",
       "      <th>21</th>\n",
       "      <td>Certified Professional in Training Management ...</td>\n",
       "      <td>The Certified Professional in Training Managem...</td>\n",
       "      <td>NaN</td>\n",
       "    </tr>\n",
       "    <tr>\n",
       "      <th>22</th>\n",
       "      <td>Certified Professional in Training Management ...</td>\n",
       "      <td>The Certified Professional in Training Managem...</td>\n",
       "      <td>NaN</td>\n",
       "    </tr>\n",
       "    <tr>\n",
       "      <th>23</th>\n",
       "      <td>Certified Professional in Training Management ...</td>\n",
       "      <td>The Certified Professional in Training Managem...</td>\n",
       "      <td>NaN</td>\n",
       "    </tr>\n",
       "    <tr>\n",
       "      <th>24</th>\n",
       "      <td>Certified Professional in Training Management ...</td>\n",
       "      <td>The Certified Professional in Training Managem...</td>\n",
       "      <td>NaN</td>\n",
       "    </tr>\n",
       "    <tr>\n",
       "      <th>25</th>\n",
       "      <td>Certified Professional in Training Management ...</td>\n",
       "      <td>Program Outline\\nThe CPTM program provides ins...</td>\n",
       "      <td>NaN</td>\n",
       "    </tr>\n",
       "    <tr>\n",
       "      <th>26</th>\n",
       "      <td>Bachelors Degree in Surveying Engineering</td>\n",
       "      <td>There is a very high demand for surveying engi...</td>\n",
       "      <td>NaN</td>\n",
       "    </tr>\n",
       "    <tr>\n",
       "      <th>27</th>\n",
       "      <td>ACT WorkKeys Career Curriculum</td>\n",
       "      <td>The goal of ACT Career Curriculum is to foster...</td>\n",
       "      <td>NaN</td>\n",
       "    </tr>\n",
       "    <tr>\n",
       "      <th>28</th>\n",
       "      <td>Certified Domestic Violence Professional 40 Ho...</td>\n",
       "      <td>Complete 40 hour training at an ICDVP approved...</td>\n",
       "      <td>NaN</td>\n",
       "    </tr>\n",
       "    <tr>\n",
       "      <th>29</th>\n",
       "      <td>Certified Partner Abuse Intervention Professio...</td>\n",
       "      <td>Complete a 20 hour partner abuse intervention-...</td>\n",
       "      <td>NaN</td>\n",
       "    </tr>\n",
       "  </tbody>\n",
       "</table>\n",
       "</div>"
      ],
      "text/plain": [
       "                                                   title  \\\n",
       "cg 0                 Certified Safety Professional (CSP)   \n",
       "   1                              HOSP 215, Front Office   \n",
       "   2   Computer Science Program at Texas Luthern Univ...   \n",
       "   3   Bachelor of Science in Information Technology ...   \n",
       "   4   Pharmacy Technician Certification Board Certif...   \n",
       "   5            Energy Industry Fundamentals Certificate   \n",
       "   6                       Insurance Studies Certificate   \n",
       "   7   Bachelor of Science in Information Technology ...   \n",
       "   8               Respiratory Care Associate of Science   \n",
       "   9     BOC Level II Training Certificate of Completion   \n",
       "   10     BOC Level I Training Certificate of Completion   \n",
       "   11                     Official (ISC)² CISSP Training   \n",
       "   12            NSF Certificate in Food Safety Programs   \n",
       "   13             Certified Food Safety Manager Training   \n",
       "   14  Certified Professional in Training Management ...   \n",
       "   15  Certified Professional in Training Management ...   \n",
       "   16  Certified Professional in Training Management ...   \n",
       "   17  Certified Professional in Training Management ...   \n",
       "   18  Certified Professional in Training Management ...   \n",
       "   19  Certified Professional in Training Management ...   \n",
       "   20  Certified Professional in Training Management ...   \n",
       "   21  Certified Professional in Training Management ...   \n",
       "   22  Certified Professional in Training Management ...   \n",
       "   23  Certified Professional in Training Management ...   \n",
       "   24  Certified Professional in Training Management ...   \n",
       "   25  Certified Professional in Training Management ...   \n",
       "   26          Bachelors Degree in Surveying Engineering   \n",
       "   27                     ACT WorkKeys Career Curriculum   \n",
       "   28  Certified Domestic Violence Professional 40 Ho...   \n",
       "   29  Certified Partner Abuse Intervention Professio...   \n",
       "\n",
       "                                             description  \\\n",
       "cg 0   The purpose of the recertification program is ...   \n",
       "   1   This course presents a systematic approach to ...   \n",
       "   2   We believe the analysis of problems, the desig...   \n",
       "   3   Brandman University's Bachelor of Science in I...   \n",
       "   4   Certificants must complete a minimum of twenty...   \n",
       "   5   The Energy Industry Fundamentals course, for w...   \n",
       "   6   The Certificate of Completion (CCL) in Insuran...   \n",
       "   7   This program consists of the following courses...   \n",
       "   8   Students are admitted to the Respiratory Care ...   \n",
       "   9   To earn a Level II Training Certificate of Com...   \n",
       "   10  Level I classes support the BOC operator skill...   \n",
       "   11  Our training helps you fully prepare for this ...   \n",
       "   12  NSF International, NSF Training & Education Se...   \n",
       "   13  Certified Managers have a responsibility to sh...   \n",
       "   14  The CPTM program utilizes a blended approach t...   \n",
       "   15  The Certified Professional in Training Managem...   \n",
       "   16  The Certified Professional in Training Managem...   \n",
       "   17  The Certified Professional in Training Managem...   \n",
       "   18  The Certified Professional in Training Managem...   \n",
       "   19  The Certified Professional in Training Managem...   \n",
       "   20  The Certified Professional in Training Managem...   \n",
       "   21  The Certified Professional in Training Managem...   \n",
       "   22  The Certified Professional in Training Managem...   \n",
       "   23  The Certified Professional in Training Managem...   \n",
       "   24  The Certified Professional in Training Managem...   \n",
       "   25  Program Outline\\nThe CPTM program provides ins...   \n",
       "   26  There is a very high demand for surveying engi...   \n",
       "   27  The goal of ACT Career Curriculum is to foster...   \n",
       "   28  Complete 40 hour training at an ICDVP approved...   \n",
       "   29  Complete a 20 hour partner abuse intervention-...   \n",
       "\n",
       "                              skill  \n",
       "cg 0                            NaN  \n",
       "   1                            NaN  \n",
       "   2                            NaN  \n",
       "   3                            NaN  \n",
       "   4                            NaN  \n",
       "   5                Energy Industry  \n",
       "   6   Insurance Industry Knowledge  \n",
       "   7                            NaN  \n",
       "   8                            NaN  \n",
       "   9                            NaN  \n",
       "   10                          HVAC  \n",
       "   11        Cybersecurity Strategy  \n",
       "   12                   Food Safety  \n",
       "   13                   Food Safety  \n",
       "   14                           NaN  \n",
       "   15                           NaN  \n",
       "   16                           NaN  \n",
       "   17                           NaN  \n",
       "   18                           NaN  \n",
       "   19                           NaN  \n",
       "   20                           NaN  \n",
       "   21                           NaN  \n",
       "   22                           NaN  \n",
       "   23                           NaN  \n",
       "   24                           NaN  \n",
       "   25                           NaN  \n",
       "   26                           NaN  \n",
       "   27                           NaN  \n",
       "   28                           NaN  \n",
       "   29                           NaN  "
      ]
     },
     "execution_count": 60,
     "metadata": {},
     "output_type": "execute_result"
    }
   ],
   "source": [
    "courses.head(30)"
   ]
  },
  {
   "cell_type": "code",
   "execution_count": 61,
   "metadata": {},
   "outputs": [],
   "source": [
    "courses.to_csv('courses_all.csv')"
   ]
  },
  {
   "cell_type": "markdown",
   "metadata": {},
   "source": [
    "# train-test split"
   ]
  },
  {
   "cell_type": "code",
   "execution_count": 62,
   "metadata": {},
   "outputs": [],
   "source": [
    "courses = pd.read_csv('./data/courses_labeled.csv')"
   ]
  },
  {
   "cell_type": "code",
   "execution_count": 63,
   "metadata": {
    "scrolled": true
   },
   "outputs": [
    {
     "data": {
      "text/plain": [
       "(853, 5)"
      ]
     },
     "execution_count": 63,
     "metadata": {},
     "output_type": "execute_result"
    }
   ],
   "source": [
    "courses.shape"
   ]
  },
  {
   "cell_type": "code",
   "execution_count": 64,
   "metadata": {
    "scrolled": true
   },
   "outputs": [
    {
     "data": {
      "text/html": [
       "<div>\n",
       "<style scoped>\n",
       "    .dataframe tbody tr th:only-of-type {\n",
       "        vertical-align: middle;\n",
       "    }\n",
       "\n",
       "    .dataframe tbody tr th {\n",
       "        vertical-align: top;\n",
       "    }\n",
       "\n",
       "    .dataframe thead th {\n",
       "        text-align: right;\n",
       "    }\n",
       "</style>\n",
       "<table border=\"1\" class=\"dataframe\">\n",
       "  <thead>\n",
       "    <tr style=\"text-align: right;\">\n",
       "      <th></th>\n",
       "      <th>Unnamed: 0</th>\n",
       "      <th>Unnamed: 1</th>\n",
       "      <th>title</th>\n",
       "      <th>description</th>\n",
       "      <th>skill</th>\n",
       "    </tr>\n",
       "  </thead>\n",
       "  <tbody>\n",
       "    <tr>\n",
       "      <th>0</th>\n",
       "      <td>cg</td>\n",
       "      <td>5</td>\n",
       "      <td>Energy Industry Fundamentals Certificate</td>\n",
       "      <td>The Energy Industry Fundamentals course, for w...</td>\n",
       "      <td>Energy Industry</td>\n",
       "    </tr>\n",
       "    <tr>\n",
       "      <th>1</th>\n",
       "      <td>cg</td>\n",
       "      <td>6</td>\n",
       "      <td>Insurance Studies Certificate</td>\n",
       "      <td>The Certificate of Completion (CCL) in Insuran...</td>\n",
       "      <td>Insurance Industry Knowledge</td>\n",
       "    </tr>\n",
       "    <tr>\n",
       "      <th>2</th>\n",
       "      <td>cg</td>\n",
       "      <td>10</td>\n",
       "      <td>BOC Level I Training Certificate of Completion</td>\n",
       "      <td>Level I classes support the BOC operator skill...</td>\n",
       "      <td>HVAC</td>\n",
       "    </tr>\n",
       "    <tr>\n",
       "      <th>3</th>\n",
       "      <td>cg</td>\n",
       "      <td>11</td>\n",
       "      <td>Official (ISC)² CISSP Training</td>\n",
       "      <td>Our training helps you fully prepare for this ...</td>\n",
       "      <td>Cybersecurity Strategy</td>\n",
       "    </tr>\n",
       "    <tr>\n",
       "      <th>4</th>\n",
       "      <td>cg</td>\n",
       "      <td>12</td>\n",
       "      <td>NSF Certificate in Food Safety Programs</td>\n",
       "      <td>NSF International, NSF Training &amp; Education Se...</td>\n",
       "      <td>Food Safety</td>\n",
       "    </tr>\n",
       "    <tr>\n",
       "      <th>5</th>\n",
       "      <td>cg</td>\n",
       "      <td>13</td>\n",
       "      <td>Certified Food Safety Manager Training</td>\n",
       "      <td>Certified Managers have a responsibility to sh...</td>\n",
       "      <td>Food Safety</td>\n",
       "    </tr>\n",
       "    <tr>\n",
       "      <th>6</th>\n",
       "      <td>cg</td>\n",
       "      <td>42</td>\n",
       "      <td>Professional Development Certificate in SQL Se...</td>\n",
       "      <td>An 11-week in-depth program designed to provid...</td>\n",
       "      <td>Microsoft SQL</td>\n",
       "    </tr>\n",
       "    <tr>\n",
       "      <th>7</th>\n",
       "      <td>cg</td>\n",
       "      <td>44</td>\n",
       "      <td>.Net Web Developer Program</td>\n",
       "      <td>A 10-week comprehensive program covering web d...</td>\n",
       "      <td>.NET</td>\n",
       "    </tr>\n",
       "    <tr>\n",
       "      <th>8</th>\n",
       "      <td>cg</td>\n",
       "      <td>47</td>\n",
       "      <td>Graduate Certificate in Cybersecurity - Critic...</td>\n",
       "      <td>The Cybersecurity area of study blends both in...</td>\n",
       "      <td>Infrastructure Security Fundamentals</td>\n",
       "    </tr>\n",
       "    <tr>\n",
       "      <th>9</th>\n",
       "      <td>cg</td>\n",
       "      <td>49</td>\n",
       "      <td>Welding &amp; Fabrication Industry Certification P...</td>\n",
       "      <td>The Monroe Community College Career Welding &amp; ...</td>\n",
       "      <td>MIG (PULSE) Welding</td>\n",
       "    </tr>\n",
       "  </tbody>\n",
       "</table>\n",
       "</div>"
      ],
      "text/plain": [
       "  Unnamed: 0  Unnamed: 1                                              title  \\\n",
       "0         cg           5           Energy Industry Fundamentals Certificate   \n",
       "1         cg           6                      Insurance Studies Certificate   \n",
       "2         cg          10     BOC Level I Training Certificate of Completion   \n",
       "3         cg          11                     Official (ISC)² CISSP Training   \n",
       "4         cg          12            NSF Certificate in Food Safety Programs   \n",
       "5         cg          13             Certified Food Safety Manager Training   \n",
       "6         cg          42  Professional Development Certificate in SQL Se...   \n",
       "7         cg          44                         .Net Web Developer Program   \n",
       "8         cg          47  Graduate Certificate in Cybersecurity - Critic...   \n",
       "9         cg          49  Welding & Fabrication Industry Certification P...   \n",
       "\n",
       "                                         description  \\\n",
       "0  The Energy Industry Fundamentals course, for w...   \n",
       "1  The Certificate of Completion (CCL) in Insuran...   \n",
       "2  Level I classes support the BOC operator skill...   \n",
       "3  Our training helps you fully prepare for this ...   \n",
       "4  NSF International, NSF Training & Education Se...   \n",
       "5  Certified Managers have a responsibility to sh...   \n",
       "6  An 11-week in-depth program designed to provid...   \n",
       "7  A 10-week comprehensive program covering web d...   \n",
       "8  The Cybersecurity area of study blends both in...   \n",
       "9  The Monroe Community College Career Welding & ...   \n",
       "\n",
       "                                  skill  \n",
       "0                       Energy Industry  \n",
       "1          Insurance Industry Knowledge  \n",
       "2                                  HVAC  \n",
       "3                Cybersecurity Strategy  \n",
       "4                           Food Safety  \n",
       "5                           Food Safety  \n",
       "6                         Microsoft SQL  \n",
       "7                                  .NET  \n",
       "8  Infrastructure Security Fundamentals  \n",
       "9                   MIG (PULSE) Welding  "
      ]
     },
     "execution_count": 64,
     "metadata": {},
     "output_type": "execute_result"
    }
   ],
   "source": [
    "courses.head(10)"
   ]
  },
  {
   "cell_type": "code",
   "execution_count": 65,
   "metadata": {},
   "outputs": [],
   "source": [
    "random.seed(0)"
   ]
  },
  {
   "cell_type": "code",
   "execution_count": 66,
   "metadata": {},
   "outputs": [],
   "source": [
    "courses_shuffled = courses.sample(frac=1)"
   ]
  },
  {
   "cell_type": "code",
   "execution_count": 67,
   "metadata": {},
   "outputs": [
    {
     "data": {
      "text/html": [
       "<div>\n",
       "<style scoped>\n",
       "    .dataframe tbody tr th:only-of-type {\n",
       "        vertical-align: middle;\n",
       "    }\n",
       "\n",
       "    .dataframe tbody tr th {\n",
       "        vertical-align: top;\n",
       "    }\n",
       "\n",
       "    .dataframe thead th {\n",
       "        text-align: right;\n",
       "    }\n",
       "</style>\n",
       "<table border=\"1\" class=\"dataframe\">\n",
       "  <thead>\n",
       "    <tr style=\"text-align: right;\">\n",
       "      <th></th>\n",
       "      <th>Unnamed: 0</th>\n",
       "      <th>Unnamed: 1</th>\n",
       "      <th>title</th>\n",
       "      <th>description</th>\n",
       "      <th>skill</th>\n",
       "    </tr>\n",
       "  </thead>\n",
       "  <tbody>\n",
       "    <tr>\n",
       "      <th>291</th>\n",
       "      <td>ec</td>\n",
       "      <td>820</td>\n",
       "      <td>Business Communications</td>\n",
       "      <td>This course, part of the Business Fundamentals...</td>\n",
       "      <td>Business Communications</td>\n",
       "    </tr>\n",
       "    <tr>\n",
       "      <th>365</th>\n",
       "      <td>ec</td>\n",
       "      <td>1075</td>\n",
       "      <td>Machine Learning with Python: from Linear Mode...</td>\n",
       "      <td>Machine learning methods are commonly used acr...</td>\n",
       "      <td>Machine Learning</td>\n",
       "    </tr>\n",
       "    <tr>\n",
       "      <th>485</th>\n",
       "      <td>fl</td>\n",
       "      <td>386</td>\n",
       "      <td>Big Data and the Environment</td>\n",
       "      <td>Use current examples to explore the potential ...</td>\n",
       "      <td>Big Data</td>\n",
       "    </tr>\n",
       "    <tr>\n",
       "      <th>201</th>\n",
       "      <td>ec</td>\n",
       "      <td>488</td>\n",
       "      <td>Machine Learning</td>\n",
       "      <td>Machine Learning is the basis for the most exc...</td>\n",
       "      <td>Machine Learning</td>\n",
       "    </tr>\n",
       "    <tr>\n",
       "      <th>425</th>\n",
       "      <td>ec</td>\n",
       "      <td>1361</td>\n",
       "      <td>Programming Reactive Systems</td>\n",
       "      <td>Reactive programming is a set of techniques fo...</td>\n",
       "      <td>Scala</td>\n",
       "    </tr>\n",
       "    <tr>\n",
       "      <th>370</th>\n",
       "      <td>ec</td>\n",
       "      <td>1115</td>\n",
       "      <td>Computing in Python I: Fundamentals and Proced...</td>\n",
       "      <td>This course starts from the beginning, coverin...</td>\n",
       "      <td>Python</td>\n",
       "    </tr>\n",
       "    <tr>\n",
       "      <th>102</th>\n",
       "      <td>ec</td>\n",
       "      <td>98</td>\n",
       "      <td>Pre-University Calculus</td>\n",
       "      <td>Mathematics is the language of Science, Engine...</td>\n",
       "      <td>Calculus</td>\n",
       "    </tr>\n",
       "    <tr>\n",
       "      <th>205</th>\n",
       "      <td>ec</td>\n",
       "      <td>507</td>\n",
       "      <td>Best Practices for Project Management Success</td>\n",
       "      <td>Project management plays a key role in support...</td>\n",
       "      <td>Project Management</td>\n",
       "    </tr>\n",
       "    <tr>\n",
       "      <th>80</th>\n",
       "      <td>cg</td>\n",
       "      <td>294</td>\n",
       "      <td>PLUMBING</td>\n",
       "      <td>This series of courses is designed for plumber...</td>\n",
       "      <td>Plumbing</td>\n",
       "    </tr>\n",
       "    <tr>\n",
       "      <th>382</th>\n",
       "      <td>ec</td>\n",
       "      <td>1149</td>\n",
       "      <td>Microsoft Professional Capstone : Cybersecurity</td>\n",
       "      <td>The Enterprise Security Hands-On Lab provides ...</td>\n",
       "      <td>Cybersecurity Assessment</td>\n",
       "    </tr>\n",
       "  </tbody>\n",
       "</table>\n",
       "</div>"
      ],
      "text/plain": [
       "    Unnamed: 0  Unnamed: 1                                              title  \\\n",
       "291         ec         820                            Business Communications   \n",
       "365         ec        1075  Machine Learning with Python: from Linear Mode...   \n",
       "485         fl         386                       Big Data and the Environment   \n",
       "201         ec         488                                   Machine Learning   \n",
       "425         ec        1361                       Programming Reactive Systems   \n",
       "370         ec        1115  Computing in Python I: Fundamentals and Proced...   \n",
       "102         ec          98                            Pre-University Calculus   \n",
       "205         ec         507      Best Practices for Project Management Success   \n",
       "80          cg         294                                           PLUMBING   \n",
       "382         ec        1149    Microsoft Professional Capstone : Cybersecurity   \n",
       "\n",
       "                                           description  \\\n",
       "291  This course, part of the Business Fundamentals...   \n",
       "365  Machine learning methods are commonly used acr...   \n",
       "485  Use current examples to explore the potential ...   \n",
       "201  Machine Learning is the basis for the most exc...   \n",
       "425  Reactive programming is a set of techniques fo...   \n",
       "370  This course starts from the beginning, coverin...   \n",
       "102  Mathematics is the language of Science, Engine...   \n",
       "205  Project management plays a key role in support...   \n",
       "80   This series of courses is designed for plumber...   \n",
       "382  The Enterprise Security Hands-On Lab provides ...   \n",
       "\n",
       "                        skill  \n",
       "291   Business Communications  \n",
       "365          Machine Learning  \n",
       "485                  Big Data  \n",
       "201          Machine Learning  \n",
       "425                     Scala  \n",
       "370                    Python  \n",
       "102                  Calculus  \n",
       "205        Project Management  \n",
       "80                   Plumbing  \n",
       "382  Cybersecurity Assessment  "
      ]
     },
     "execution_count": 67,
     "metadata": {},
     "output_type": "execute_result"
    }
   ],
   "source": [
    "courses_shuffled.head(10)"
   ]
  },
  {
   "cell_type": "code",
   "execution_count": 68,
   "metadata": {},
   "outputs": [],
   "source": [
    "test_size = courses.shape[0]//5"
   ]
  },
  {
   "cell_type": "code",
   "execution_count": 69,
   "metadata": {},
   "outputs": [
    {
     "data": {
      "text/plain": [
       "170"
      ]
     },
     "execution_count": 69,
     "metadata": {},
     "output_type": "execute_result"
    }
   ],
   "source": [
    "test_size"
   ]
  },
  {
   "cell_type": "code",
   "execution_count": 70,
   "metadata": {},
   "outputs": [],
   "source": [
    "test = courses_shuffled[:test_size]"
   ]
  },
  {
   "cell_type": "code",
   "execution_count": 71,
   "metadata": {},
   "outputs": [],
   "source": [
    "train = courses_shuffled[test_size:]"
   ]
  },
  {
   "cell_type": "code",
   "execution_count": 72,
   "metadata": {
    "scrolled": true
   },
   "outputs": [
    {
     "data": {
      "text/html": [
       "<div>\n",
       "<style scoped>\n",
       "    .dataframe tbody tr th:only-of-type {\n",
       "        vertical-align: middle;\n",
       "    }\n",
       "\n",
       "    .dataframe tbody tr th {\n",
       "        vertical-align: top;\n",
       "    }\n",
       "\n",
       "    .dataframe thead th {\n",
       "        text-align: right;\n",
       "    }\n",
       "</style>\n",
       "<table border=\"1\" class=\"dataframe\">\n",
       "  <thead>\n",
       "    <tr style=\"text-align: right;\">\n",
       "      <th></th>\n",
       "      <th>Unnamed: 0</th>\n",
       "      <th>Unnamed: 1</th>\n",
       "      <th>title</th>\n",
       "      <th>description</th>\n",
       "      <th>skill</th>\n",
       "    </tr>\n",
       "  </thead>\n",
       "  <tbody>\n",
       "    <tr>\n",
       "      <th>789</th>\n",
       "      <td>ss</td>\n",
       "      <td>340</td>\n",
       "      <td>Develop the Project Schedule (PMBOK® Guide Six...</td>\n",
       "      <td>This course covers the Estimate Activity Durat...</td>\n",
       "      <td>Project Planning and Development Skills</td>\n",
       "    </tr>\n",
       "    <tr>\n",
       "      <th>837</th>\n",
       "      <td>ss</td>\n",
       "      <td>403</td>\n",
       "      <td>The Value Proposition: Getting Your Pitch Right</td>\n",
       "      <td>The value a company offers to customers can co...</td>\n",
       "      <td>Sales</td>\n",
       "    </tr>\n",
       "    <tr>\n",
       "      <th>337</th>\n",
       "      <td>ec</td>\n",
       "      <td>954</td>\n",
       "      <td>Microsoft Azure Security Services</td>\n",
       "      <td>This course is part of the &lt;a href=\"https://ww...</td>\n",
       "      <td>Microsoft Azure</td>\n",
       "    </tr>\n",
       "    <tr>\n",
       "      <th>572</th>\n",
       "      <td>ss</td>\n",
       "      <td>15</td>\n",
       "      <td>Determining Process Performance and Capability...</td>\n",
       "      <td>In any improvement initiative, organizations m...</td>\n",
       "      <td>Six Sigma</td>\n",
       "    </tr>\n",
       "    <tr>\n",
       "      <th>221</th>\n",
       "      <td>ec</td>\n",
       "      <td>559</td>\n",
       "      <td>Orchestrating Big Data with Azure Data Factory</td>\n",
       "      <td>This course is part of the &lt;a href=\"https://ww...</td>\n",
       "      <td>Microsoft Azure</td>\n",
       "    </tr>\n",
       "    <tr>\n",
       "      <th>213</th>\n",
       "      <td>ec</td>\n",
       "      <td>541</td>\n",
       "      <td>Financial Accounting Made Fun: Eliminating You...</td>\n",
       "      <td>Are financial statements a mystery to you? Do ...</td>\n",
       "      <td>Accounting</td>\n",
       "    </tr>\n",
       "    <tr>\n",
       "      <th>840</th>\n",
       "      <td>ss</td>\n",
       "      <td>421</td>\n",
       "      <td>Interacting with Customers</td>\n",
       "      <td>Failing to realize the importance of customer ...</td>\n",
       "      <td>Customer Service</td>\n",
       "    </tr>\n",
       "    <tr>\n",
       "      <th>802</th>\n",
       "      <td>ss</td>\n",
       "      <td>353</td>\n",
       "      <td>Analyzing Risk (PMBOK® Guide Sixth Edition)</td>\n",
       "      <td>This course covers the Perform Qualitative Ris...</td>\n",
       "      <td>Risk Management</td>\n",
       "    </tr>\n",
       "    <tr>\n",
       "      <th>463</th>\n",
       "      <td>fl</td>\n",
       "      <td>211</td>\n",
       "      <td>Introduction to Dutch</td>\n",
       "      <td>Start learning Dutch todayAre you planning to ...</td>\n",
       "      <td>Dutch</td>\n",
       "    </tr>\n",
       "    <tr>\n",
       "      <th>581</th>\n",
       "      <td>ss</td>\n",
       "      <td>24</td>\n",
       "      <td>Statistical Process Control (SPC) and Control ...</td>\n",
       "      <td>Ensuring a process is in control is critical t...</td>\n",
       "      <td>Six Sigma</td>\n",
       "    </tr>\n",
       "  </tbody>\n",
       "</table>\n",
       "</div>"
      ],
      "text/plain": [
       "    Unnamed: 0  Unnamed: 1                                              title  \\\n",
       "789         ss         340  Develop the Project Schedule (PMBOK® Guide Six...   \n",
       "837         ss         403    The Value Proposition: Getting Your Pitch Right   \n",
       "337         ec         954                  Microsoft Azure Security Services   \n",
       "572         ss          15  Determining Process Performance and Capability...   \n",
       "221         ec         559     Orchestrating Big Data with Azure Data Factory   \n",
       "213         ec         541  Financial Accounting Made Fun: Eliminating You...   \n",
       "840         ss         421                         Interacting with Customers   \n",
       "802         ss         353        Analyzing Risk (PMBOK® Guide Sixth Edition)   \n",
       "463         fl         211                              Introduction to Dutch   \n",
       "581         ss          24  Statistical Process Control (SPC) and Control ...   \n",
       "\n",
       "                                           description  \\\n",
       "789  This course covers the Estimate Activity Durat...   \n",
       "837  The value a company offers to customers can co...   \n",
       "337  This course is part of the <a href=\"https://ww...   \n",
       "572  In any improvement initiative, organizations m...   \n",
       "221  This course is part of the <a href=\"https://ww...   \n",
       "213  Are financial statements a mystery to you? Do ...   \n",
       "840  Failing to realize the importance of customer ...   \n",
       "802  This course covers the Perform Qualitative Ris...   \n",
       "463  Start learning Dutch todayAre you planning to ...   \n",
       "581  Ensuring a process is in control is critical t...   \n",
       "\n",
       "                                       skill  \n",
       "789  Project Planning and Development Skills  \n",
       "837                                    Sales  \n",
       "337                          Microsoft Azure  \n",
       "572                                Six Sigma  \n",
       "221                          Microsoft Azure  \n",
       "213                               Accounting  \n",
       "840                         Customer Service  \n",
       "802                          Risk Management  \n",
       "463                                    Dutch  \n",
       "581                                Six Sigma  "
      ]
     },
     "execution_count": 72,
     "metadata": {},
     "output_type": "execute_result"
    }
   ],
   "source": [
    "train.head(10)"
   ]
  },
  {
   "cell_type": "code",
   "execution_count": 73,
   "metadata": {},
   "outputs": [
    {
     "data": {
      "text/plain": [
       "(683, 5)"
      ]
     },
     "execution_count": 73,
     "metadata": {},
     "output_type": "execute_result"
    }
   ],
   "source": [
    "train.shape"
   ]
  },
  {
   "cell_type": "code",
   "execution_count": 74,
   "metadata": {},
   "outputs": [
    {
     "data": {
      "text/plain": [
       "(170, 5)"
      ]
     },
     "execution_count": 74,
     "metadata": {},
     "output_type": "execute_result"
    }
   ],
   "source": [
    "test.shape"
   ]
  },
  {
   "cell_type": "code",
   "execution_count": 75,
   "metadata": {},
   "outputs": [],
   "source": [
    "train.to_csv('train.csv')"
   ]
  },
  {
   "cell_type": "code",
   "execution_count": 76,
   "metadata": {},
   "outputs": [],
   "source": [
    "test.to_csv('test.csv')"
   ]
  }
 ],
 "metadata": {
  "kernelspec": {
   "display_name": "Python 3",
   "language": "python",
   "name": "python3"
  },
  "language_info": {
   "codemirror_mode": {
    "name": "ipython",
    "version": 3
   },
   "file_extension": ".py",
   "mimetype": "text/x-python",
   "name": "python",
   "nbconvert_exporter": "python",
   "pygments_lexer": "ipython3",
   "version": "3.7.3"
  },
  "toc": {
   "base_numbering": 1,
   "nav_menu": {},
   "number_sections": true,
   "sideBar": true,
   "skip_h1_title": false,
   "title_cell": "Table of Contents",
   "title_sidebar": "Contents",
   "toc_cell": false,
   "toc_position": {},
   "toc_section_display": true,
   "toc_window_display": false
  },
  "varInspector": {
   "cols": {
    "lenName": 16,
    "lenType": 16,
    "lenVar": 40
   },
   "kernels_config": {
    "python": {
     "delete_cmd_postfix": "",
     "delete_cmd_prefix": "del ",
     "library": "var_list.py",
     "varRefreshCmd": "print(var_dic_list())"
    },
    "r": {
     "delete_cmd_postfix": ") ",
     "delete_cmd_prefix": "rm(",
     "library": "var_list.r",
     "varRefreshCmd": "cat(var_dic_list()) "
    }
   },
   "types_to_exclude": [
    "module",
    "function",
    "builtin_function_or_method",
    "instance",
    "_Feature"
   ],
   "window_display": false
  }
 },
 "nbformat": 4,
 "nbformat_minor": 2
}
